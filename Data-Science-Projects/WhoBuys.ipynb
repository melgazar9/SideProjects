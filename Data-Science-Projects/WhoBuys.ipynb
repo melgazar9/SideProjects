{
 "cells": [
  {
   "cell_type": "markdown",
   "metadata": {},
   "source": [
    "# This script attempts to predict who will be bound"
   ]
  },
  {
   "cell_type": "markdown",
   "metadata": {},
   "source": [
    "### Read in data from PostgreSQL"
   ]
  },
  {
   "cell_type": "code",
   "execution_count": 1588,
   "metadata": {
    "collapsed": true
   },
   "outputs": [],
   "source": [
    "from sqlalchemy import create_engine\n",
    "import pandas as pd\n",
    "\n",
    "postgres_url = ' some link :) '\n",
    "\n",
    "engine = create_engine(postgres_url)\n",
    "\n",
    "query = 'SELECT * \\\n",
    "         FROM insureds \\\n",
    "         LEFT JOIN households ON insureds.household_id = households.id \\\n",
    "         INNER JOIN properties ON properties.household_id = households.id \\\n",
    "         LEFT JOIN policies ON policies.property_id = properties.id \\\n",
    "         LEFT JOIN (SELECT DISTINCT ON (verisk_valuations.address_id) * \\\n",
    "         FROM verisk_valuations ORDER BY verisk_valuations.address_id, \\\n",
    "         verisk_valuations.updated_at DESC ) verisk_valuations \\\n",
    "         ON verisk_valuations.address_id = properties.address_id'\n",
    "\n",
    "#\n",
    "#         INNER JOIN verisk_valuations ON properties.id = verisk_valuations.property_id;'\n",
    "\n",
    "df = pd.read_sql_query(query, con=engine)\n",
    "\n",
    "#df.to_csv('/Users/mattelgazar/Desktop/Data/insureds_joined_data.csv')"
   ]
  },
  {
   "cell_type": "markdown",
   "metadata": {},
   "source": [
    "### Query recent unseen data for recent predictions"
   ]
  },
  {
   "cell_type": "code",
   "execution_count": 1589,
   "metadata": {
    "collapsed": true
   },
   "outputs": [],
   "source": [
    "query_test = \"SELECT * \\\n",
    "         FROM insureds \\\n",
    "         LEFT JOIN households ON insureds.household_id = households.id \\\n",
    "         INNER JOIN properties ON properties.household_id = households.id \\\n",
    "         LEFT JOIN policies ON policies.property_id = properties.id \\\n",
    "         LEFT JOIN (SELECT DISTINCT ON (verisk_valuations.address_id) * \\\n",
    "         FROM verisk_valuations ORDER BY verisk_valuations.address_id, \\\n",
    "         verisk_valuations.updated_at DESC ) verisk_valuations \\\n",
    "         ON verisk_valuations.address_id = properties.address_id \\\n",
    "         WHERE insureds.created_at >= (CURRENT_DATE - INTERVAL '1 day')::date\"\n",
    "\n",
    "df_test = pd.read_sql_query(query_test, con=engine)"
   ]
  },
  {
   "cell_type": "code",
   "execution_count": 1590,
   "metadata": {},
   "outputs": [
    {
     "data": {
      "text/html": [
       "<div>\n",
       "<style scoped>\n",
       "    .dataframe tbody tr th:only-of-type {\n",
       "        vertical-align: middle;\n",
       "    }\n",
       "\n",
       "    .dataframe tbody tr th {\n",
       "        vertical-align: top;\n",
       "    }\n",
       "\n",
       "    .dataframe thead th {\n",
       "        text-align: right;\n",
       "    }\n",
       "</style>\n",
       "<table border=\"1\" class=\"dataframe\">\n",
       "  <thead>\n",
       "    <tr style=\"text-align: right;\">\n",
       "      <th></th>\n",
       "      <th>id</th>\n",
       "      <th>household_id</th>\n",
       "      <th>address_id</th>\n",
       "      <th>user_id</th>\n",
       "      <th>created_by_id</th>\n",
       "      <th>first_name</th>\n",
       "      <th>last_name</th>\n",
       "      <th>phone</th>\n",
       "      <th>email</th>\n",
       "      <th>dob</th>\n",
       "      <th>...</th>\n",
       "      <th>garage_style</th>\n",
       "      <th>pool_value</th>\n",
       "      <th>valuation_id</th>\n",
       "      <th>half_bathrooms</th>\n",
       "      <th>full_bathrooms</th>\n",
       "      <th>one_and_a_half_bathrooms</th>\n",
       "      <th>address_id</th>\n",
       "      <th>detached_structures_value</th>\n",
       "      <th>year_built</th>\n",
       "      <th>sq_ft</th>\n",
       "    </tr>\n",
       "  </thead>\n",
       "  <tbody>\n",
       "    <tr>\n",
       "      <th>0</th>\n",
       "      <td>154</td>\n",
       "      <td>269710</td>\n",
       "      <td>NaN</td>\n",
       "      <td>471.0</td>\n",
       "      <td>None</td>\n",
       "      <td>Candace</td>\n",
       "      <td>Fender</td>\n",
       "      <td>+17724651432</td>\n",
       "      <td>None</td>\n",
       "      <td>1953-03-03</td>\n",
       "      <td>...</td>\n",
       "      <td>None</td>\n",
       "      <td>0.00</td>\n",
       "      <td>AA8Z-G8RJ</td>\n",
       "      <td>NaN</td>\n",
       "      <td>3.0</td>\n",
       "      <td>NaN</td>\n",
       "      <td>1566.0</td>\n",
       "      <td>42375.25</td>\n",
       "      <td>NaN</td>\n",
       "      <td>NaN</td>\n",
       "    </tr>\n",
       "    <tr>\n",
       "      <th>1</th>\n",
       "      <td>156</td>\n",
       "      <td>269715</td>\n",
       "      <td>NaN</td>\n",
       "      <td>473.0</td>\n",
       "      <td>None</td>\n",
       "      <td>Alex</td>\n",
       "      <td>Abrams</td>\n",
       "      <td>+14079213000</td>\n",
       "      <td>None</td>\n",
       "      <td>1947-11-23</td>\n",
       "      <td>...</td>\n",
       "      <td>Attached / Built-In</td>\n",
       "      <td>0.00</td>\n",
       "      <td>AA8Z-M9ZB</td>\n",
       "      <td>NaN</td>\n",
       "      <td>2.0</td>\n",
       "      <td>NaN</td>\n",
       "      <td>1574.0</td>\n",
       "      <td>.00</td>\n",
       "      <td>NaN</td>\n",
       "      <td>NaN</td>\n",
       "    </tr>\n",
       "    <tr>\n",
       "      <th>2</th>\n",
       "      <td>158</td>\n",
       "      <td>269735</td>\n",
       "      <td>NaN</td>\n",
       "      <td>482.0</td>\n",
       "      <td>None</td>\n",
       "      <td>WILLARDO</td>\n",
       "      <td>EMDEN</td>\n",
       "      <td>+13869867680</td>\n",
       "      <td>None</td>\n",
       "      <td>1981-04-18</td>\n",
       "      <td>...</td>\n",
       "      <td>Attached / Built-In</td>\n",
       "      <td>0.00</td>\n",
       "      <td>AA8Z-S9BZ</td>\n",
       "      <td>NaN</td>\n",
       "      <td>2.0</td>\n",
       "      <td>NaN</td>\n",
       "      <td>1601.0</td>\n",
       "      <td>.00</td>\n",
       "      <td>NaN</td>\n",
       "      <td>NaN</td>\n",
       "    </tr>\n",
       "    <tr>\n",
       "      <th>3</th>\n",
       "      <td>161</td>\n",
       "      <td>269763</td>\n",
       "      <td>NaN</td>\n",
       "      <td>497.0</td>\n",
       "      <td>None</td>\n",
       "      <td>Kishore</td>\n",
       "      <td>Adurty</td>\n",
       "      <td>+18055016143</td>\n",
       "      <td>None</td>\n",
       "      <td>1978-02-22</td>\n",
       "      <td>...</td>\n",
       "      <td>Attached / Built-In</td>\n",
       "      <td>0.00</td>\n",
       "      <td>AA9A-B9YR</td>\n",
       "      <td>NaN</td>\n",
       "      <td>1.0</td>\n",
       "      <td>NaN</td>\n",
       "      <td>1632.0</td>\n",
       "      <td>.00</td>\n",
       "      <td>NaN</td>\n",
       "      <td>NaN</td>\n",
       "    </tr>\n",
       "    <tr>\n",
       "      <th>4</th>\n",
       "      <td>163</td>\n",
       "      <td>269777</td>\n",
       "      <td>NaN</td>\n",
       "      <td>503.0</td>\n",
       "      <td>None</td>\n",
       "      <td>Dana</td>\n",
       "      <td>Johnson</td>\n",
       "      <td>+18507974026</td>\n",
       "      <td>None</td>\n",
       "      <td>1982-06-25</td>\n",
       "      <td>...</td>\n",
       "      <td>Attached / Built-In</td>\n",
       "      <td>0.00</td>\n",
       "      <td>AA9A-F9CD</td>\n",
       "      <td>NaN</td>\n",
       "      <td>1.0</td>\n",
       "      <td>NaN</td>\n",
       "      <td>1648.0</td>\n",
       "      <td>.00</td>\n",
       "      <td>NaN</td>\n",
       "      <td>NaN</td>\n",
       "    </tr>\n",
       "  </tbody>\n",
       "</table>\n",
       "<p>5 rows × 130 columns</p>\n",
       "</div>"
      ],
      "text/plain": [
       "    id  household_id address_id  user_id created_by_id first_name last_name  \\\n",
       "0  154        269710        NaN    471.0          None    Candace    Fender   \n",
       "1  156        269715        NaN    473.0          None       Alex    Abrams   \n",
       "2  158        269735        NaN    482.0          None   WILLARDO     EMDEN   \n",
       "3  161        269763        NaN    497.0          None    Kishore    Adurty   \n",
       "4  163        269777        NaN    503.0          None       Dana   Johnson   \n",
       "\n",
       "          phone email         dob  ...           garage_style pool_value  \\\n",
       "0  +17724651432  None  1953-03-03  ...                   None       0.00   \n",
       "1  +14079213000  None  1947-11-23  ...    Attached / Built-In       0.00   \n",
       "2  +13869867680  None  1981-04-18  ...    Attached / Built-In       0.00   \n",
       "3  +18055016143  None  1978-02-22  ...    Attached / Built-In       0.00   \n",
       "4  +18507974026  None  1982-06-25  ...    Attached / Built-In       0.00   \n",
       "\n",
       "  valuation_id  half_bathrooms  full_bathrooms  one_and_a_half_bathrooms  \\\n",
       "0    AA8Z-G8RJ             NaN             3.0                       NaN   \n",
       "1    AA8Z-M9ZB             NaN             2.0                       NaN   \n",
       "2    AA8Z-S9BZ             NaN             2.0                       NaN   \n",
       "3    AA9A-B9YR             NaN             1.0                       NaN   \n",
       "4    AA9A-F9CD             NaN             1.0                       NaN   \n",
       "\n",
       "  address_id detached_structures_value  year_built  sq_ft  \n",
       "0     1566.0                  42375.25         NaN    NaN  \n",
       "1     1574.0                       .00         NaN    NaN  \n",
       "2     1601.0                       .00         NaN    NaN  \n",
       "3     1632.0                       .00         NaN    NaN  \n",
       "4     1648.0                       .00         NaN    NaN  \n",
       "\n",
       "[5 rows x 130 columns]"
      ]
     },
     "execution_count": 1590,
     "metadata": {},
     "output_type": "execute_result"
    }
   ],
   "source": [
    "df.head()"
   ]
  },
  {
   "cell_type": "code",
   "execution_count": null,
   "metadata": {
    "collapsed": true
   },
   "outputs": [],
   "source": []
  },
  {
   "cell_type": "code",
   "execution_count": 1591,
   "metadata": {},
   "outputs": [
    {
     "data": {
      "text/plain": [
       "19"
      ]
     },
     "execution_count": 1591,
     "metadata": {},
     "output_type": "execute_result"
    }
   ],
   "source": [
    "df['dob'].isnull().sum()"
   ]
  },
  {
   "cell_type": "markdown",
   "metadata": {},
   "source": [
    "### Define a function that gets the age"
   ]
  },
  {
   "cell_type": "code",
   "execution_count": 1592,
   "metadata": {
    "collapsed": true
   },
   "outputs": [],
   "source": [
    "import datetime, dateutil\n",
    "\n",
    "def get_age(date):\n",
    "    # Get the current date\n",
    "    now = datetime.datetime.utcnow()\n",
    "    now = now.date()\n",
    "\n",
    "    # Get the difference between the current date and dob\n",
    "    age = dateutil.relativedelta.relativedelta(now, date)\n",
    "    age = age.years\n",
    "\n",
    "    return age\n",
    "\n",
    "df['age'] = df.apply(lambda x: get_age(x['dob']), axis=1) # get the users age"
   ]
  },
  {
   "cell_type": "code",
   "execution_count": 1593,
   "metadata": {},
   "outputs": [
    {
     "data": {
      "text/plain": [
       "0     (1953, 3)\n",
       "1    (1947, 11)\n",
       "2     (1981, 4)\n",
       "3     (1978, 2)\n",
       "4     (1982, 6)\n",
       "Name: dob, dtype: object"
      ]
     },
     "execution_count": 1593,
     "metadata": {},
     "output_type": "execute_result"
    }
   ],
   "source": [
    "import datetime \n",
    "\n",
    "def get_year_month(field):\n",
    "    year = field.year\n",
    "    month = field.month\n",
    "    return (year, month)\n",
    "\n",
    "lst=[]\n",
    "for i in df['dob']:\n",
    "    try:\n",
    "        if type(i) == datetime.date:\n",
    "            lst.append(get_year_month(i))\n",
    "        else:\n",
    "            lst.append(i)\n",
    "    except AttributeError:\n",
    "        pass\n",
    "\n",
    "df['dob'] = pd.Series(lst, index=df.index)\n",
    "\n",
    "#get_year_month(df.dob[9172])\n",
    "df['dob'].head()"
   ]
  },
  {
   "cell_type": "code",
   "execution_count": 1594,
   "metadata": {},
   "outputs": [
    {
     "data": {
      "text/html": [
       "<div>\n",
       "<style scoped>\n",
       "    .dataframe tbody tr th:only-of-type {\n",
       "        vertical-align: middle;\n",
       "    }\n",
       "\n",
       "    .dataframe tbody tr th {\n",
       "        vertical-align: top;\n",
       "    }\n",
       "\n",
       "    .dataframe thead th {\n",
       "        text-align: right;\n",
       "    }\n",
       "</style>\n",
       "<table border=\"1\" class=\"dataframe\">\n",
       "  <thead>\n",
       "    <tr style=\"text-align: right;\">\n",
       "      <th></th>\n",
       "      <th>id</th>\n",
       "      <th>household_id</th>\n",
       "      <th>address_id</th>\n",
       "      <th>user_id</th>\n",
       "      <th>created_by_id</th>\n",
       "      <th>first_name</th>\n",
       "      <th>last_name</th>\n",
       "      <th>phone</th>\n",
       "      <th>email</th>\n",
       "      <th>dob</th>\n",
       "      <th>...</th>\n",
       "      <th>pool_value</th>\n",
       "      <th>valuation_id</th>\n",
       "      <th>half_bathrooms</th>\n",
       "      <th>full_bathrooms</th>\n",
       "      <th>one_and_a_half_bathrooms</th>\n",
       "      <th>address_id</th>\n",
       "      <th>detached_structures_value</th>\n",
       "      <th>year_built</th>\n",
       "      <th>sq_ft</th>\n",
       "      <th>age</th>\n",
       "    </tr>\n",
       "  </thead>\n",
       "  <tbody>\n",
       "    <tr>\n",
       "      <th>16213</th>\n",
       "      <td>12373</td>\n",
       "      <td>341676</td>\n",
       "      <td>67820.0</td>\n",
       "      <td>22721.0</td>\n",
       "      <td>None</td>\n",
       "      <td>Andrew</td>\n",
       "      <td>Copening</td>\n",
       "      <td>+17276673085</td>\n",
       "      <td>None</td>\n",
       "      <td>(3085, 5)</td>\n",
       "      <td>...</td>\n",
       "      <td>0.00</td>\n",
       "      <td>AB5V-M9WP</td>\n",
       "      <td>1.0</td>\n",
       "      <td>1.0</td>\n",
       "      <td>1.0</td>\n",
       "      <td>67820.0</td>\n",
       "      <td>.00</td>\n",
       "      <td>NaN</td>\n",
       "      <td>NaN</td>\n",
       "      <td>55.0</td>\n",
       "    </tr>\n",
       "  </tbody>\n",
       "</table>\n",
       "<p>1 rows × 131 columns</p>\n",
       "</div>"
      ],
      "text/plain": [
       "          id  household_id  address_id  user_id created_by_id first_name  \\\n",
       "16213  12373        341676     67820.0  22721.0          None     Andrew   \n",
       "\n",
       "      last_name         phone email        dob  ...   pool_value valuation_id  \\\n",
       "16213  Copening  +17276673085  None  (3085, 5)  ...         0.00    AB5V-M9WP   \n",
       "\n",
       "      half_bathrooms  full_bathrooms  one_and_a_half_bathrooms  address_id  \\\n",
       "16213            1.0             1.0                       1.0     67820.0   \n",
       "\n",
       "      detached_structures_value year_built  sq_ft   age  \n",
       "16213                       .00        NaN    NaN  55.0  \n",
       "\n",
       "[1 rows x 131 columns]"
      ]
     },
     "execution_count": 1594,
     "metadata": {},
     "output_type": "execute_result"
    }
   ],
   "source": [
    "df.loc[df['last_name']=='Copening', 'age'] = df.age.median()\n",
    "#df.loc[df.age < 0]\n",
    "df.loc[df['last_name'] == 'Copening']"
   ]
  },
  {
   "cell_type": "code",
   "execution_count": 1595,
   "metadata": {},
   "outputs": [
    {
     "data": {
      "text/html": [
       "<div>\n",
       "<style scoped>\n",
       "    .dataframe tbody tr th:only-of-type {\n",
       "        vertical-align: middle;\n",
       "    }\n",
       "\n",
       "    .dataframe tbody tr th {\n",
       "        vertical-align: top;\n",
       "    }\n",
       "\n",
       "    .dataframe thead th {\n",
       "        text-align: right;\n",
       "    }\n",
       "</style>\n",
       "<table border=\"1\" class=\"dataframe\">\n",
       "  <thead>\n",
       "    <tr style=\"text-align: right;\">\n",
       "      <th></th>\n",
       "      <th>id</th>\n",
       "      <th>household_id</th>\n",
       "      <th>address_id</th>\n",
       "      <th>user_id</th>\n",
       "      <th>created_by_id</th>\n",
       "      <th>first_name</th>\n",
       "      <th>last_name</th>\n",
       "      <th>phone</th>\n",
       "      <th>email</th>\n",
       "      <th>dob</th>\n",
       "      <th>...</th>\n",
       "      <th>pool_value</th>\n",
       "      <th>valuation_id</th>\n",
       "      <th>half_bathrooms</th>\n",
       "      <th>full_bathrooms</th>\n",
       "      <th>one_and_a_half_bathrooms</th>\n",
       "      <th>address_id</th>\n",
       "      <th>detached_structures_value</th>\n",
       "      <th>year_built</th>\n",
       "      <th>sq_ft</th>\n",
       "      <th>age</th>\n",
       "    </tr>\n",
       "  </thead>\n",
       "  <tbody>\n",
       "    <tr>\n",
       "      <th>16213</th>\n",
       "      <td>12373</td>\n",
       "      <td>341676</td>\n",
       "      <td>67820.0</td>\n",
       "      <td>22721.0</td>\n",
       "      <td>None</td>\n",
       "      <td>Andrew</td>\n",
       "      <td>Copening</td>\n",
       "      <td>+17276673085</td>\n",
       "      <td>None</td>\n",
       "      <td>(1963, 1)</td>\n",
       "      <td>...</td>\n",
       "      <td>0.00</td>\n",
       "      <td>AB5V-M9WP</td>\n",
       "      <td>1.0</td>\n",
       "      <td>1.0</td>\n",
       "      <td>1.0</td>\n",
       "      <td>67820.0</td>\n",
       "      <td>.00</td>\n",
       "      <td>NaN</td>\n",
       "      <td>NaN</td>\n",
       "      <td>55.0</td>\n",
       "    </tr>\n",
       "  </tbody>\n",
       "</table>\n",
       "<p>1 rows × 131 columns</p>\n",
       "</div>"
      ],
      "text/plain": [
       "          id  household_id  address_id  user_id created_by_id first_name  \\\n",
       "16213  12373        341676     67820.0  22721.0          None     Andrew   \n",
       "\n",
       "      last_name         phone email        dob  ...   pool_value valuation_id  \\\n",
       "16213  Copening  +17276673085  None  (1963, 1)  ...         0.00    AB5V-M9WP   \n",
       "\n",
       "      half_bathrooms  full_bathrooms  one_and_a_half_bathrooms  address_id  \\\n",
       "16213            1.0             1.0                       1.0     67820.0   \n",
       "\n",
       "      detached_structures_value year_built  sq_ft   age  \n",
       "16213                       .00        NaN    NaN  55.0  \n",
       "\n",
       "[1 rows x 131 columns]"
      ]
     },
     "execution_count": 1595,
     "metadata": {},
     "output_type": "execute_result"
    }
   ],
   "source": [
    "df.loc[df['last_name'] == 'Copening', 'dob'] = df.loc[df['last_name'] == 'Copening', 'dob'].apply(lambda x: get_year_month(pd.to_datetime('1963-01')))\n",
    "\n",
    "df.loc[df['last_name'] == 'Copening']"
   ]
  },
  {
   "cell_type": "markdown",
   "metadata": {},
   "source": [
    "### Categorize age in groups of 10. Also Categorize date of birth (dob) by month and year"
   ]
  },
  {
   "cell_type": "code",
   "execution_count": 1596,
   "metadata": {},
   "outputs": [
    {
     "data": {
      "text/plain": [
       "5     5287\n",
       "6     4835\n",
       "4     3809\n",
       "3     3279\n",
       "7     2637\n",
       "2     1230\n",
       "8      846\n",
       "9       88\n",
       "1       30\n",
       "10      29\n",
       "0       26\n",
       "Name: age, dtype: int64"
      ]
     },
     "execution_count": 1596,
     "metadata": {},
     "output_type": "execute_result"
    }
   ],
   "source": [
    "lst=[]\n",
    "for a in df.age:\n",
    "    if a >= 0 and a < 10:\n",
    "        lst.append(0)\n",
    "    elif a >= 10 and a < 20:\n",
    "        lst.append(1)\n",
    "    elif a >= 20 and a < 30:\n",
    "        lst.append(2)\n",
    "    elif a >= 30 and a < 40:\n",
    "        lst.append(3)\n",
    "    elif a >= 40 and a < 50:\n",
    "        lst.append(4)\n",
    "    elif a >= 50 and a < 60:\n",
    "        lst.append(5)\n",
    "    elif a >= 60 and a < 70:\n",
    "        lst.append(6)\n",
    "    elif a >= 70 and a < 80:\n",
    "        lst.append(7)\n",
    "    elif a >= 80 and a < 90:\n",
    "        lst.append(8)\n",
    "    elif a >= 90 and a < 100:\n",
    "        lst.append(9)\n",
    "    elif a >= 100:\n",
    "        lst.append(10)\n",
    "\n",
    "df.age = pd.Series(lst, index=df.index)\n",
    "df.age.value_counts()"
   ]
  },
  {
   "cell_type": "code",
   "execution_count": 1597,
   "metadata": {},
   "outputs": [
    {
     "data": {
      "text/plain": [
       "(22096, 22096)"
      ]
     },
     "execution_count": 1597,
     "metadata": {},
     "output_type": "execute_result"
    }
   ],
   "source": [
    "len(lst), len(df)"
   ]
  },
  {
   "cell_type": "markdown",
   "metadata": {},
   "source": [
    "### Group sale_price by the nearest 15K using the ceiling function"
   ]
  },
  {
   "cell_type": "code",
   "execution_count": 1598,
   "metadata": {},
   "outputs": [
    {
     "data": {
      "text/plain": [
       "0             NaN\n",
       "1             NaN\n",
       "2             NaN\n",
       "3             NaN\n",
       "4             NaN\n",
       "5             NaN\n",
       "6             NaN\n",
       "7             NaN\n",
       "8             NaN\n",
       "9             NaN\n",
       "10            NaN\n",
       "11            NaN\n",
       "12            NaN\n",
       "13            NaN\n",
       "14            NaN\n",
       "15            NaN\n",
       "16            NaN\n",
       "17            NaN\n",
       "18            NaN\n",
       "19            NaN\n",
       "20            NaN\n",
       "21            NaN\n",
       "22            NaN\n",
       "23            NaN\n",
       "24            NaN\n",
       "25            NaN\n",
       "26            NaN\n",
       "27            NaN\n",
       "28            NaN\n",
       "29            NaN\n",
       "           ...   \n",
       "22066     60000.0\n",
       "22067    165000.0\n",
       "22068    615000.0\n",
       "22069     15000.0\n",
       "22070    300000.0\n",
       "22071     15000.0\n",
       "22072    330000.0\n",
       "22073    255000.0\n",
       "22074    330000.0\n",
       "22075    210000.0\n",
       "22076     30000.0\n",
       "22077     30000.0\n",
       "22078         NaN\n",
       "22079     60000.0\n",
       "22080     30000.0\n",
       "22081    135000.0\n",
       "22082         NaN\n",
       "22083    105000.0\n",
       "22084    315000.0\n",
       "22085     15000.0\n",
       "22086    360000.0\n",
       "22087     60000.0\n",
       "22088         NaN\n",
       "22089    210000.0\n",
       "22090    225000.0\n",
       "22091    165000.0\n",
       "22092    120000.0\n",
       "22093    150000.0\n",
       "22094     90000.0\n",
       "22095         NaN\n",
       "Name: sale_price, Length: 22096, dtype: float64"
      ]
     },
     "execution_count": 1598,
     "metadata": {},
     "output_type": "execute_result"
    }
   ],
   "source": [
    "import math\n",
    "\n",
    "def roundup_15k(x):\n",
    "    return float(math.ceil(x / 15000.0)) * 15000\n",
    "\n",
    "df['sale_price'] = df['sale_price'].apply(lambda x: roundup_15k(x))\n",
    "df['sale_price']"
   ]
  },
  {
   "cell_type": "markdown",
   "metadata": {},
   "source": [
    "### Group construction_year into 5 year increments and year_built into 10-year increments using the ceiling function"
   ]
  },
  {
   "cell_type": "code",
   "execution_count": 1599,
   "metadata": {
    "collapsed": true
   },
   "outputs": [],
   "source": [
    "def roundup_10(x):\n",
    "    return float(math.ceil(x / 10.0)) * 10\n",
    "\n",
    "#df['sale_price'] = df['sale_price'].apply(lambda x: roundup_15k(x))\n",
    "df['year_built'] = df['year_built'].iloc[:, 0]\n",
    "df['year_built']\n",
    "\n",
    "df['year_built'] = df['year_built'].iloc[:, 0].apply(lambda row: roundup_10(row))\n",
    "#len(df['year_built'].value_counts())"
   ]
  },
  {
   "cell_type": "code",
   "execution_count": 1600,
   "metadata": {},
   "outputs": [
    {
     "data": {
      "text/plain": [
       "0        1945.0\n",
       "1        1980.0\n",
       "2        1995.0\n",
       "3        2015.0\n",
       "4        1980.0\n",
       "5        1960.0\n",
       "6        1980.0\n",
       "7        1980.0\n",
       "8        1980.0\n",
       "9        1980.0\n",
       "10       2020.0\n",
       "11       1980.0\n",
       "12       1965.0\n",
       "13       1975.0\n",
       "14       1975.0\n",
       "15       1985.0\n",
       "16       1930.0\n",
       "17       1995.0\n",
       "18       1965.0\n",
       "19       1980.0\n",
       "20       2010.0\n",
       "21       1995.0\n",
       "22       1990.0\n",
       "23       1980.0\n",
       "24       2020.0\n",
       "25       2005.0\n",
       "26       1990.0\n",
       "27       1965.0\n",
       "28       2010.0\n",
       "29       2010.0\n",
       "          ...  \n",
       "22066    1985.0\n",
       "22067    1980.0\n",
       "22068    2000.0\n",
       "22069    2005.0\n",
       "22070    2020.0\n",
       "22071    1970.0\n",
       "22072    1975.0\n",
       "22073    1955.0\n",
       "22074    2005.0\n",
       "22075    2005.0\n",
       "22076    1990.0\n",
       "22077    1970.0\n",
       "22078    1960.0\n",
       "22079    1940.0\n",
       "22080    1955.0\n",
       "22081    2000.0\n",
       "22082    1995.0\n",
       "22083    1980.0\n",
       "22084    2020.0\n",
       "22085    1950.0\n",
       "22086    1985.0\n",
       "22087    1975.0\n",
       "22088    1960.0\n",
       "22089    1990.0\n",
       "22090    1995.0\n",
       "22091    1985.0\n",
       "22092    1980.0\n",
       "22093    1990.0\n",
       "22094    1960.0\n",
       "22095    1975.0\n",
       "Name: construction_year, Length: 22096, dtype: float64"
      ]
     },
     "execution_count": 1600,
     "metadata": {},
     "output_type": "execute_result"
    }
   ],
   "source": [
    "def roundup_5(x):\n",
    "    return float(math.ceil(x / 5.0)) * 5\n",
    "\n",
    "\n",
    "lst=[]\n",
    "for i in df['construction_year']:\n",
    "    try:\n",
    "        lst.append(roundup_5(int(i)))\n",
    "    except TypeError:\n",
    "        lst.append(-1)\n",
    "    \n",
    "df['construction_year'] = pd.Series(lst, index=df.index)\n",
    "df['construction_year']"
   ]
  },
  {
   "cell_type": "code",
   "execution_count": null,
   "metadata": {
    "collapsed": true
   },
   "outputs": [],
   "source": []
  },
  {
   "cell_type": "code",
   "execution_count": 1601,
   "metadata": {},
   "outputs": [
    {
     "data": {
      "text/html": [
       "<div>\n",
       "<style scoped>\n",
       "    .dataframe tbody tr th:only-of-type {\n",
       "        vertical-align: middle;\n",
       "    }\n",
       "\n",
       "    .dataframe tbody tr th {\n",
       "        vertical-align: top;\n",
       "    }\n",
       "\n",
       "    .dataframe thead th {\n",
       "        text-align: right;\n",
       "    }\n",
       "</style>\n",
       "<table border=\"1\" class=\"dataframe\">\n",
       "  <thead>\n",
       "    <tr style=\"text-align: right;\">\n",
       "      <th></th>\n",
       "      <th>created_at</th>\n",
       "      <th>created_at</th>\n",
       "      <th>created_at</th>\n",
       "      <th>created_at</th>\n",
       "      <th>created_at</th>\n",
       "    </tr>\n",
       "  </thead>\n",
       "  <tbody>\n",
       "    <tr>\n",
       "      <th>0</th>\n",
       "      <td>2017-06-01 19:11:05.353477</td>\n",
       "      <td>2017-06-01 19:02:22.628143</td>\n",
       "      <td>2017-06-01 19:02:22.929275</td>\n",
       "      <td>NaT</td>\n",
       "      <td>2017-06-01 19:02:24.725167</td>\n",
       "    </tr>\n",
       "    <tr>\n",
       "      <th>1</th>\n",
       "      <td>2017-06-02 11:25:10.435432</td>\n",
       "      <td>2017-06-02 11:22:52.782917</td>\n",
       "      <td>2017-06-02 11:22:53.166041</td>\n",
       "      <td>NaT</td>\n",
       "      <td>2017-06-02 11:22:55.223832</td>\n",
       "    </tr>\n",
       "    <tr>\n",
       "      <th>2</th>\n",
       "      <td>2017-06-02 18:09:05.369519</td>\n",
       "      <td>2017-06-02 18:07:13.228093</td>\n",
       "      <td>2017-06-02 18:07:13.730634</td>\n",
       "      <td>NaT</td>\n",
       "      <td>2017-06-02 18:07:16.071248</td>\n",
       "    </tr>\n",
       "    <tr>\n",
       "      <th>3</th>\n",
       "      <td>2017-06-05 14:18:04.850484</td>\n",
       "      <td>2017-06-05 14:15:15.701160</td>\n",
       "      <td>2017-06-05 14:15:15.922421</td>\n",
       "      <td>NaT</td>\n",
       "      <td>2017-06-05 14:15:17.281972</td>\n",
       "    </tr>\n",
       "    <tr>\n",
       "      <th>4</th>\n",
       "      <td>2017-06-05 18:19:52.293784</td>\n",
       "      <td>2017-06-05 18:13:38.419674</td>\n",
       "      <td>2017-06-05 18:13:38.799695</td>\n",
       "      <td>NaT</td>\n",
       "      <td>2017-06-05 18:13:40.636521</td>\n",
       "    </tr>\n",
       "  </tbody>\n",
       "</table>\n",
       "</div>"
      ],
      "text/plain": [
       "                  created_at                 created_at  \\\n",
       "0 2017-06-01 19:11:05.353477 2017-06-01 19:02:22.628143   \n",
       "1 2017-06-02 11:25:10.435432 2017-06-02 11:22:52.782917   \n",
       "2 2017-06-02 18:09:05.369519 2017-06-02 18:07:13.228093   \n",
       "3 2017-06-05 14:18:04.850484 2017-06-05 14:15:15.701160   \n",
       "4 2017-06-05 18:19:52.293784 2017-06-05 18:13:38.419674   \n",
       "\n",
       "                  created_at created_at                 created_at  \n",
       "0 2017-06-01 19:02:22.929275        NaT 2017-06-01 19:02:24.725167  \n",
       "1 2017-06-02 11:22:53.166041        NaT 2017-06-02 11:22:55.223832  \n",
       "2 2017-06-02 18:07:13.730634        NaT 2017-06-02 18:07:16.071248  \n",
       "3 2017-06-05 14:15:15.922421        NaT 2017-06-05 14:15:17.281972  \n",
       "4 2017-06-05 18:13:38.799695        NaT 2017-06-05 18:13:40.636521  "
      ]
     },
     "execution_count": 1601,
     "metadata": {},
     "output_type": "execute_result"
    }
   ],
   "source": [
    "df['created_at'].head()"
   ]
  },
  {
   "cell_type": "code",
   "execution_count": null,
   "metadata": {
    "collapsed": true
   },
   "outputs": [],
   "source": []
  },
  {
   "cell_type": "markdown",
   "metadata": {},
   "source": [
    "### Find columns with duplicate column names"
   ]
  },
  {
   "cell_type": "code",
   "execution_count": 1602,
   "metadata": {},
   "outputs": [
    {
     "name": "stdout",
     "output_type": "stream",
     "text": [
      "[u'property_id', u'usage', u'replacement_cost', u'household_id', u'created_by_id', u'exterior_wall_finish_code', u'address_id', u'stories', u'sq_ft', u'updated_at', u'id', u'status', u'freshsales_id', u'year_built', u'residence_type', u'created_at']\n"
     ]
    }
   ],
   "source": [
    "import collections\n",
    "duplicate_cols = [item for item, count in collections.Counter(list(df.columns)).items() if count > 1]\n",
    "print duplicate_cols"
   ]
  },
  {
   "cell_type": "code",
   "execution_count": 1603,
   "metadata": {},
   "outputs": [
    {
     "name": "stdout",
     "output_type": "stream",
     "text": [
      "16\n"
     ]
    }
   ],
   "source": [
    "print len(duplicate_cols)"
   ]
  },
  {
   "cell_type": "markdown",
   "metadata": {},
   "source": [
    "### Rename duplicate column names based on the database they come from"
   ]
  },
  {
   "cell_type": "code",
   "execution_count": 1604,
   "metadata": {},
   "outputs": [
    {
     "data": {
      "text/html": [
       "<div>\n",
       "<style scoped>\n",
       "    .dataframe tbody tr th:only-of-type {\n",
       "        vertical-align: middle;\n",
       "    }\n",
       "\n",
       "    .dataframe tbody tr th {\n",
       "        vertical-align: top;\n",
       "    }\n",
       "\n",
       "    .dataframe thead th {\n",
       "        text-align: right;\n",
       "    }\n",
       "</style>\n",
       "<table border=\"1\" class=\"dataframe\">\n",
       "  <thead>\n",
       "    <tr style=\"text-align: right;\">\n",
       "      <th></th>\n",
       "      <th>created_at</th>\n",
       "      <th>created_at</th>\n",
       "      <th>created_at</th>\n",
       "      <th>created_at</th>\n",
       "      <th>created_at</th>\n",
       "    </tr>\n",
       "  </thead>\n",
       "  <tbody>\n",
       "    <tr>\n",
       "      <th>22091</th>\n",
       "      <td>2018-03-06 14:52:32.410688</td>\n",
       "      <td>2018-03-06 14:37:07.269155</td>\n",
       "      <td>2018-03-06 14:37:07.456510</td>\n",
       "      <td>NaT</td>\n",
       "      <td>2018-03-06 14:37:09.290427</td>\n",
       "    </tr>\n",
       "    <tr>\n",
       "      <th>22092</th>\n",
       "      <td>2018-03-06 15:32:52.373336</td>\n",
       "      <td>2018-03-06 15:29:32.952919</td>\n",
       "      <td>2018-03-06 15:29:33.319099</td>\n",
       "      <td>NaT</td>\n",
       "      <td>2018-03-06 15:29:34.927620</td>\n",
       "    </tr>\n",
       "    <tr>\n",
       "      <th>22093</th>\n",
       "      <td>2018-03-06 16:09:22.704392</td>\n",
       "      <td>2018-03-06 16:05:12.434952</td>\n",
       "      <td>2018-03-06 16:05:12.790236</td>\n",
       "      <td>NaT</td>\n",
       "      <td>2018-03-06 16:05:14.282723</td>\n",
       "    </tr>\n",
       "    <tr>\n",
       "      <th>22094</th>\n",
       "      <td>2018-03-06 18:50:20.166035</td>\n",
       "      <td>2018-03-06 18:45:20.472722</td>\n",
       "      <td>2018-03-06 18:45:21.059717</td>\n",
       "      <td>2018-03-12 17:24:35.877165</td>\n",
       "      <td>2018-03-06 18:45:22.383600</td>\n",
       "    </tr>\n",
       "    <tr>\n",
       "      <th>22095</th>\n",
       "      <td>2018-03-07 01:32:18.715401</td>\n",
       "      <td>2018-03-06 15:36:26.501682</td>\n",
       "      <td>2018-03-06 15:36:26.622034</td>\n",
       "      <td>NaT</td>\n",
       "      <td>2018-03-06 15:36:27.978723</td>\n",
       "    </tr>\n",
       "  </tbody>\n",
       "</table>\n",
       "</div>"
      ],
      "text/plain": [
       "                      created_at                 created_at  \\\n",
       "22091 2018-03-06 14:52:32.410688 2018-03-06 14:37:07.269155   \n",
       "22092 2018-03-06 15:32:52.373336 2018-03-06 15:29:32.952919   \n",
       "22093 2018-03-06 16:09:22.704392 2018-03-06 16:05:12.434952   \n",
       "22094 2018-03-06 18:50:20.166035 2018-03-06 18:45:20.472722   \n",
       "22095 2018-03-07 01:32:18.715401 2018-03-06 15:36:26.501682   \n",
       "\n",
       "                      created_at                 created_at  \\\n",
       "22091 2018-03-06 14:37:07.456510                        NaT   \n",
       "22092 2018-03-06 15:29:33.319099                        NaT   \n",
       "22093 2018-03-06 16:05:12.790236                        NaT   \n",
       "22094 2018-03-06 18:45:21.059717 2018-03-12 17:24:35.877165   \n",
       "22095 2018-03-06 15:36:26.622034                        NaT   \n",
       "\n",
       "                      created_at  \n",
       "22091 2018-03-06 14:37:09.290427  \n",
       "22092 2018-03-06 15:29:34.927620  \n",
       "22093 2018-03-06 16:05:14.282723  \n",
       "22094 2018-03-06 18:45:22.383600  \n",
       "22095 2018-03-06 15:36:27.978723  "
      ]
     },
     "execution_count": 1604,
     "metadata": {},
     "output_type": "execute_result"
    }
   ],
   "source": [
    "df['created_at'].tail()"
   ]
  },
  {
   "cell_type": "markdown",
   "metadata": {},
   "source": [
    "### Merge df['year_built'] with each other because some id's have values and some don't. Fill nan values with -1 because that value will not exist in this column"
   ]
  },
  {
   "cell_type": "code",
   "execution_count": 1605,
   "metadata": {
    "collapsed": true
   },
   "outputs": [],
   "source": [
    "df['year_built'] = df['year_built'].iloc[:, 0].fillna(-1) + df['year_built'].iloc[:, 1].fillna(-1)"
   ]
  },
  {
   "cell_type": "code",
   "execution_count": 1606,
   "metadata": {},
   "outputs": [
    {
     "data": {
      "text/plain": [
       "year_built    0\n",
       "year_built    0\n",
       "dtype: int64"
      ]
     },
     "execution_count": 1606,
     "metadata": {},
     "output_type": "execute_result"
    }
   ],
   "source": [
    "df['year_built'].isnull().sum()"
   ]
  },
  {
   "cell_type": "markdown",
   "metadata": {},
   "source": [
    "### Replace duplicate column names to what table each column came from"
   ]
  },
  {
   "cell_type": "code",
   "execution_count": 1607,
   "metadata": {
    "collapsed": true
   },
   "outputs": [],
   "source": [
    "col_name = {'created_at' : ['created_at_insureds', 'created_at_households', \n",
    "                         'created_at_properties', 'created_at_verisk', 'created_at_policies'], \n",
    "            'id' : ['id_insureds', 'id_households', 'id_properties', 'id_verisk', 'id_policies'],\n",
    "            'address_id' : ['address_id_to_drop', 'address_id', 'address_id_drop2'],\n",
    "            'created_by_id' : ['created_by_id_drop1', 'created_by_id_drop2'],\n",
    "            'updated_at' : ['updated_at_insureds', 'updated_at_households', \n",
    "                            'updated_at_properties', 'updated_at_verisk', 'updated_at_policies'],\n",
    "            'household_id' : ['household_id', 'household_id_to_drop',\n",
    "                              'household_id_properties', 'household_id_policies'],\n",
    "            'status' : ['status', 'status_to_drop'],\n",
    "            'sq_ft' : ['sq_ft_to_drop', 'sq_ft'],\n",
    "            'year_built' : ['year_built', 'year_built_to_drop'],\n",
    "            'stories' : ['stories_to_drop', 'stories'],\n",
    "            'exterior_wall_finish_code' : ['exterior_wall_finish_code_to_drop', 'exterior_wall_finish_code'],\n",
    "            'replacement_cost' : ['replacement_cost', 'replacement_cost_to_drop'],\n",
    "            'usage' : ['usage', 'usage_to_drop']}\n",
    "\n",
    "df = df.rename(columns=lambda col: col_name[col].pop(0) if col in col_name.keys() else col)\n",
    "#print col_name.keys()"
   ]
  },
  {
   "cell_type": "code",
   "execution_count": 1608,
   "metadata": {},
   "outputs": [
    {
     "data": {
      "text/plain": [
       "0"
      ]
     },
     "execution_count": 1608,
     "metadata": {},
     "output_type": "execute_result"
    }
   ],
   "source": [
    "df.year_built.isnull().sum()"
   ]
  },
  {
   "cell_type": "code",
   "execution_count": 1609,
   "metadata": {},
   "outputs": [
    {
     "data": {
      "text/plain": [
       "19"
      ]
     },
     "execution_count": 1609,
     "metadata": {},
     "output_type": "execute_result"
    }
   ],
   "source": [
    "df.last_name.isnull().sum()"
   ]
  },
  {
   "cell_type": "code",
   "execution_count": null,
   "metadata": {
    "collapsed": true
   },
   "outputs": [],
   "source": []
  },
  {
   "cell_type": "code",
   "execution_count": 1610,
   "metadata": {},
   "outputs": [
    {
     "name": "stdout",
     "output_type": "stream",
     "text": [
      "131  columns\n",
      "22096  rows\n"
     ]
    }
   ],
   "source": [
    "print len(df.columns), ' columns'\n",
    "print len(df['created_at_insureds']), ' rows'"
   ]
  },
  {
   "cell_type": "code",
   "execution_count": 1611,
   "metadata": {},
   "outputs": [
    {
     "data": {
      "text/plain": [
       "19"
      ]
     },
     "execution_count": 1611,
     "metadata": {},
     "output_type": "execute_result"
    }
   ],
   "source": [
    "df.last_name.isnull().sum()"
   ]
  },
  {
   "cell_type": "markdown",
   "metadata": {},
   "source": [
    "###### Drop duplicate columns in dataframe -> Should reduce from 130 to 126 features"
   ]
  },
  {
   "cell_type": "code",
   "execution_count": 1612,
   "metadata": {
    "scrolled": true
   },
   "outputs": [
    {
     "name": "stdout",
     "output_type": "stream",
     "text": [
      "Originally there were  131\n",
      "Now there are  127  columns\n"
     ]
    }
   ],
   "source": [
    "import numpy as np\n",
    "\n",
    "print 'Originally there were ', len(df.columns)\n",
    "_, i = np.unique(df.columns, return_index=True)\n",
    "print 'Now there are ', len(np.unique(df.columns)), ' columns'\n",
    "#len(df.iloc[:, i].columns), ' columns'"
   ]
  },
  {
   "cell_type": "code",
   "execution_count": 1613,
   "metadata": {},
   "outputs": [
    {
     "data": {
      "text/plain": [
       "19"
      ]
     },
     "execution_count": 1613,
     "metadata": {},
     "output_type": "execute_result"
    }
   ],
   "source": [
    "df.last_name.isnull().sum()"
   ]
  },
  {
   "cell_type": "code",
   "execution_count": 1614,
   "metadata": {},
   "outputs": [
    {
     "data": {
      "text/plain": [
       "22086                      0\n",
       "22087                      0\n",
       "22088                      0\n",
       "22089                      0\n",
       "22090                      0\n",
       "22091                      0\n",
       "22092                      0\n",
       "22093                      0\n",
       "22094    2018-03-12 05:00:00\n",
       "22095                      0\n",
       "Name: bound_at, dtype: object"
      ]
     },
     "execution_count": 1614,
     "metadata": {},
     "output_type": "execute_result"
    }
   ],
   "source": [
    "df.bound_at = df.bound_at.fillna(0) # fill NaT values with 0\n",
    "df.bound_at.tail(10)"
   ]
  },
  {
   "cell_type": "code",
   "execution_count": 1615,
   "metadata": {},
   "outputs": [
    {
     "data": {
      "text/plain": [
       "19"
      ]
     },
     "execution_count": 1615,
     "metadata": {},
     "output_type": "execute_result"
    }
   ],
   "source": [
    "df.last_name.isnull().sum()"
   ]
  },
  {
   "cell_type": "code",
   "execution_count": 1616,
   "metadata": {
    "collapsed": true
   },
   "outputs": [],
   "source": [
    "bound_at_lst = list(df.bound_at) # Make sure you only run this cell once!"
   ]
  },
  {
   "cell_type": "code",
   "execution_count": 1617,
   "metadata": {},
   "outputs": [
    {
     "data": {
      "text/plain": [
       "19"
      ]
     },
     "execution_count": 1617,
     "metadata": {},
     "output_type": "execute_result"
    }
   ],
   "source": [
    "df.last_name.isnull().sum()"
   ]
  },
  {
   "cell_type": "code",
   "execution_count": 1618,
   "metadata": {},
   "outputs": [
    {
     "data": {
      "text/plain": [
       "22076    0\n",
       "22077    0\n",
       "22078    0\n",
       "22079    0\n",
       "22080    0\n",
       "22081    1\n",
       "22082    0\n",
       "22083    0\n",
       "22084    0\n",
       "22085    0\n",
       "22086    0\n",
       "22087    0\n",
       "22088    0\n",
       "22089    0\n",
       "22090    0\n",
       "22091    0\n",
       "22092    0\n",
       "22093    0\n",
       "22094    1\n",
       "22095    0\n",
       "Name: bound_at, dtype: int64"
      ]
     },
     "execution_count": 1618,
     "metadata": {},
     "output_type": "execute_result"
    }
   ],
   "source": [
    "#df.bound_at.replace(1, type(df.bound_at) == pd._libs.tslib.Timestamp) # Replace timestamp values with 1\n",
    "\n",
    "lst=[]\n",
    "\n",
    "for target in bound_at_lst:\n",
    "    if target != 0:\n",
    "        lst.append(1)\n",
    "    else:\n",
    "        lst.append(0)\n",
    "\n",
    "    \n",
    "df['bound_at'] = pd.Series(lst, index=df.bound_at.index)\n",
    "\n",
    "df.bound_at.tail(20)"
   ]
  },
  {
   "cell_type": "code",
   "execution_count": 1619,
   "metadata": {},
   "outputs": [
    {
     "data": {
      "text/plain": [
       "19"
      ]
     },
     "execution_count": 1619,
     "metadata": {},
     "output_type": "execute_result"
    }
   ],
   "source": [
    "df.last_name.isnull().sum()"
   ]
  },
  {
   "cell_type": "code",
   "execution_count": null,
   "metadata": {
    "collapsed": true
   },
   "outputs": [],
   "source": []
  },
  {
   "cell_type": "code",
   "execution_count": 1620,
   "metadata": {},
   "outputs": [
    {
     "data": {
      "text/plain": [
       "22086    0\n",
       "22087    0\n",
       "22088    0\n",
       "22089    0\n",
       "22090    0\n",
       "22091    0\n",
       "22092    0\n",
       "22093    0\n",
       "22094    1\n",
       "22095    0\n",
       "Name: bound_at, dtype: int64"
      ]
     },
     "execution_count": 1620,
     "metadata": {},
     "output_type": "execute_result"
    }
   ],
   "source": [
    "df['bound_at'].tail(10)"
   ]
  },
  {
   "cell_type": "code",
   "execution_count": 1621,
   "metadata": {},
   "outputs": [
    {
     "data": {
      "text/plain": [
       "0"
      ]
     },
     "execution_count": 1621,
     "metadata": {},
     "output_type": "execute_result"
    }
   ],
   "source": [
    "df.bound_at.isnull().sum()"
   ]
  },
  {
   "cell_type": "code",
   "execution_count": 1622,
   "metadata": {
    "collapsed": true
   },
   "outputs": [],
   "source": [
    "df['area_code'] = df.phone.str.lstrip('+1').str[:3] # get the area code instead of keeping the whole phone number\n",
    "df.drop(['property_record', 'attributes_at_create', \n",
    "         'sq_ft_to_drop', 'year_built_to_drop',\n",
    "         'exterior_wall_finish_code_to_drop', 'replacement_cost_to_drop',\n",
    "         'address_id_to_drop', 'address_id_to_drop2',\n",
    "         'created_by_id_drop', 'created_by_id_drop2',\n",
    "         'household_id_to_drop'],\n",
    "         axis=1, inplace=True) # Drop this column first because it is out-dated\n",
    "\n"
   ]
  },
  {
   "cell_type": "code",
   "execution_count": 1623,
   "metadata": {},
   "outputs": [
    {
     "data": {
      "text/html": [
       "<div>\n",
       "<style scoped>\n",
       "    .dataframe tbody tr th:only-of-type {\n",
       "        vertical-align: middle;\n",
       "    }\n",
       "\n",
       "    .dataframe tbody tr th {\n",
       "        vertical-align: top;\n",
       "    }\n",
       "\n",
       "    .dataframe thead th {\n",
       "        text-align: right;\n",
       "    }\n",
       "</style>\n",
       "<table border=\"1\" class=\"dataframe\">\n",
       "  <thead>\n",
       "    <tr style=\"text-align: right;\">\n",
       "      <th></th>\n",
       "      <th>id_insureds</th>\n",
       "      <th>household_id</th>\n",
       "      <th>user_id</th>\n",
       "      <th>created_by_id_drop1</th>\n",
       "      <th>first_name</th>\n",
       "      <th>last_name</th>\n",
       "      <th>phone</th>\n",
       "      <th>email</th>\n",
       "      <th>dob</th>\n",
       "      <th>co_applicant</th>\n",
       "      <th>...</th>\n",
       "      <th>pool_value</th>\n",
       "      <th>valuation_id</th>\n",
       "      <th>half_bathrooms</th>\n",
       "      <th>full_bathrooms</th>\n",
       "      <th>one_and_a_half_bathrooms</th>\n",
       "      <th>address_id_drop2</th>\n",
       "      <th>detached_structures_value</th>\n",
       "      <th>sq_ft</th>\n",
       "      <th>age</th>\n",
       "      <th>area_code</th>\n",
       "    </tr>\n",
       "  </thead>\n",
       "  <tbody>\n",
       "  </tbody>\n",
       "</table>\n",
       "<p>0 rows × 123 columns</p>\n",
       "</div>"
      ],
      "text/plain": [
       "Empty DataFrame\n",
       "Columns: [id_insureds, household_id, user_id, created_by_id_drop1, first_name, last_name, phone, email, dob, co_applicant, created_at_insureds, updated_at_insureds, ncf_id, liability_claim_count, non_liability_non_cat_claim_count, deleted_at, prior_liability_limit, fire_loss_count, theft_loss_count, wind_loss_count, water_loss_count, other_loss_count, married, freshsales_id, id_households, created_at_households, updated_at_households, remember_created_at, remember_token, freshsales_id, id_properties, address_id, construction_type_id, property_type, sale_price, sale_date, year_built, stories_to_drop, bedrooms, bathrooms, created_at_properties, updated_at_properties, foundation, roof_shape, protection_class, foundation_type_id, roof_type, construction_type, roof_age, residence_type, status, replacement_cost, burglar_alarm, fire_alarm_sprinkler, fire_alarm_monitoring, secured_community, water_detection, builder, billing_method_id, usage, number_of_families, months_unoccupied, new_home, hail_resistant_roof, years_at_residence, rental_to_others, pas_enabled, children_present, pool, renovation_year_electrical, renovation_year_plumbing, renovation_year_water_heater, renovation_year_heating, underwriting_confirmed, freshsales_id, id_verisk, start_date, end_date, status_to_drop, property_id, created_at_verisk, updated_at_verisk, payment_plan, policy_number_id, bound_at, bound_by_id, bound_premium, effective_date, external_id, issued_at, declaration_effective_date, midterm_endorsement, filing_id, cancellation_reason_id, cancellation_date, id_policies, created_at_policies, updated_at_policies, success, construction_year, ...]\n",
       "Index: []\n",
       "\n",
       "[0 rows x 123 columns]"
      ]
     },
     "execution_count": 1623,
     "metadata": {},
     "output_type": "execute_result"
    }
   ],
   "source": [
    "df.loc[df.age < 0]"
   ]
  },
  {
   "cell_type": "markdown",
   "metadata": {},
   "source": [
    "##### Set age to Andrew Copening to average age and change his dob because there is a mistake in the data"
   ]
  },
  {
   "cell_type": "code",
   "execution_count": null,
   "metadata": {
    "collapsed": true
   },
   "outputs": [],
   "source": []
  },
  {
   "cell_type": "code",
   "execution_count": 1624,
   "metadata": {},
   "outputs": [
    {
     "data": {
      "text/html": [
       "<div>\n",
       "<style scoped>\n",
       "    .dataframe tbody tr th:only-of-type {\n",
       "        vertical-align: middle;\n",
       "    }\n",
       "\n",
       "    .dataframe tbody tr th {\n",
       "        vertical-align: top;\n",
       "    }\n",
       "\n",
       "    .dataframe thead th {\n",
       "        text-align: right;\n",
       "    }\n",
       "</style>\n",
       "<table border=\"1\" class=\"dataframe\">\n",
       "  <thead>\n",
       "    <tr style=\"text-align: right;\">\n",
       "      <th></th>\n",
       "      <th>id_insureds</th>\n",
       "      <th>household_id</th>\n",
       "      <th>user_id</th>\n",
       "      <th>created_by_id_drop1</th>\n",
       "      <th>first_name</th>\n",
       "      <th>last_name</th>\n",
       "      <th>phone</th>\n",
       "      <th>email</th>\n",
       "      <th>dob</th>\n",
       "      <th>co_applicant</th>\n",
       "      <th>...</th>\n",
       "      <th>pool_value</th>\n",
       "      <th>valuation_id</th>\n",
       "      <th>half_bathrooms</th>\n",
       "      <th>full_bathrooms</th>\n",
       "      <th>one_and_a_half_bathrooms</th>\n",
       "      <th>address_id_drop2</th>\n",
       "      <th>detached_structures_value</th>\n",
       "      <th>sq_ft</th>\n",
       "      <th>age</th>\n",
       "      <th>area_code</th>\n",
       "    </tr>\n",
       "  </thead>\n",
       "  <tbody>\n",
       "  </tbody>\n",
       "</table>\n",
       "<p>0 rows × 123 columns</p>\n",
       "</div>"
      ],
      "text/plain": [
       "Empty DataFrame\n",
       "Columns: [id_insureds, household_id, user_id, created_by_id_drop1, first_name, last_name, phone, email, dob, co_applicant, created_at_insureds, updated_at_insureds, ncf_id, liability_claim_count, non_liability_non_cat_claim_count, deleted_at, prior_liability_limit, fire_loss_count, theft_loss_count, wind_loss_count, water_loss_count, other_loss_count, married, freshsales_id, id_households, created_at_households, updated_at_households, remember_created_at, remember_token, freshsales_id, id_properties, address_id, construction_type_id, property_type, sale_price, sale_date, year_built, stories_to_drop, bedrooms, bathrooms, created_at_properties, updated_at_properties, foundation, roof_shape, protection_class, foundation_type_id, roof_type, construction_type, roof_age, residence_type, status, replacement_cost, burglar_alarm, fire_alarm_sprinkler, fire_alarm_monitoring, secured_community, water_detection, builder, billing_method_id, usage, number_of_families, months_unoccupied, new_home, hail_resistant_roof, years_at_residence, rental_to_others, pas_enabled, children_present, pool, renovation_year_electrical, renovation_year_plumbing, renovation_year_water_heater, renovation_year_heating, underwriting_confirmed, freshsales_id, id_verisk, start_date, end_date, status_to_drop, property_id, created_at_verisk, updated_at_verisk, payment_plan, policy_number_id, bound_at, bound_by_id, bound_premium, effective_date, external_id, issued_at, declaration_effective_date, midterm_endorsement, filing_id, cancellation_reason_id, cancellation_date, id_policies, created_at_policies, updated_at_policies, success, construction_year, ...]\n",
       "Index: []\n",
       "\n",
       "[0 rows x 123 columns]"
      ]
     },
     "execution_count": 1624,
     "metadata": {},
     "output_type": "execute_result"
    }
   ],
   "source": [
    "len(df.age), len(lst)\n",
    "df.loc[df.age < 0]"
   ]
  },
  {
   "cell_type": "markdown",
   "metadata": {},
   "source": [
    "### Drop obvious unimportant and unpredictable features first"
   ]
  },
  {
   "cell_type": "code",
   "execution_count": 1625,
   "metadata": {},
   "outputs": [
    {
     "data": {
      "text/plain": [
       "66"
      ]
     },
     "execution_count": 1625,
     "metadata": {},
     "output_type": "execute_result"
    }
   ],
   "source": [
    "df.drop(['cancellation_date',\n",
    "        'cancellation_reason_id',\n",
    "        'filing_id',\n",
    "        'phone',\n",
    "        'midterm_endorsement',\n",
    "        'declaration_effective_date',\n",
    "        'issued_at',\n",
    "        'rental_to_others',\n",
    "        'years_at_residence',\n",
    "        'months_unoccupied',\n",
    "        'number_of_families',\n",
    "        'foundation_type_id',\n",
    "        'bedrooms',\n",
    "        'sq_ft',\n",
    "        'construction_type_id',\n",
    "        'first_name',\n",
    "        'residence_type',\n",
    "        'freshsales_id',\n",
    "        'deleted_at',\n",
    "        'billing_method_id',\n",
    "        'id_verisk',\n",
    "        'start_date',\n",
    "        'end_date',\n",
    "        'property_id',\n",
    "        'created_at_verisk',\n",
    "        'updated_at_verisk',\n",
    "        'policy_number_id',\n",
    "        'effective_date',\n",
    "        'address_id_drop2',\n",
    "        'property_record',\n",
    "        'created_by_id_drop1',\n",
    "        'status_to_drop',\n",
    "        'bound_by_id',\n",
    "        'sale_date',\n",
    "        'stories_to_drop',\n",
    "        'usage_to_drop',\n",
    "        'bound_premium',\n",
    "        'address_id',\n",
    "        'ncf_id',\n",
    "        'payment_plan',\n",
    "        'id_properties',\n",
    "        'id_policies',\n",
    "        'id_households',\n",
    "        'household_id',\n",
    "        'external_id',\n",
    "        'valuation_id',\n",
    "        'user_id',\n",
    "        'prior_liability_limit',\n",
    "        'pas_enabled',\n",
    "        'id_insureds',\n",
    "        'created_at_policies',\n",
    "        'remember_token',\n",
    "        'updated_at_policies',\n",
    "        'last_name'],\n",
    "         axis=1, inplace=True)\n",
    "len(df.columns)"
   ]
  },
  {
   "cell_type": "markdown",
   "metadata": {},
   "source": [
    "### Find numeric and non-numeric columns and can convert non-numerical columns to categorical data"
   ]
  },
  {
   "cell_type": "code",
   "execution_count": 1626,
   "metadata": {},
   "outputs": [
    {
     "name": "stdout",
     "output_type": "stream",
     "text": [
      "There are  24 numeric columns and  42  non-numeric columns\n"
     ]
    }
   ],
   "source": [
    "numerics = ['int16', 'int32', 'int64', 'float16', 'float32', 'float64']\n",
    "\n",
    "print 'There are ', len(df.select_dtypes(include=numerics).T), 'numeric columns and \\\n",
    "', len(df.columns)-len(df.select_dtypes(include=numerics).T), ' non-numeric columns'"
   ]
  },
  {
   "cell_type": "code",
   "execution_count": null,
   "metadata": {
    "collapsed": true
   },
   "outputs": [],
   "source": []
  },
  {
   "cell_type": "code",
   "execution_count": null,
   "metadata": {
    "collapsed": true
   },
   "outputs": [],
   "source": []
  },
  {
   "cell_type": "markdown",
   "metadata": {},
   "source": [
    "### Convert non-numeric features to categorical features"
   ]
  },
  {
   "cell_type": "code",
   "execution_count": 1627,
   "metadata": {},
   "outputs": [
    {
     "name": "stdout",
     "output_type": "stream",
     "text": [
      "email\n",
      "dob\n",
      "married\n",
      "property_type\n",
      "foundation\n",
      "roof_shape\n",
      "protection_class\n",
      "roof_type\n",
      "construction_type\n",
      "status\n",
      "burglar_alarm\n",
      "fire_alarm_sprinkler\n",
      "fire_alarm_monitoring\n",
      "secured_community\n",
      "water_detection\n",
      "builder\n",
      "usage\n",
      "children_present\n",
      "pool\n",
      "underwriting_confirmed\n",
      "success\n",
      "roof_cover_code\n",
      "units_in_building\n",
      "roof_shape_code\n",
      "exterior_wall_construction_code\n",
      "exterior_wall_finish_code\n",
      "foundation_type_code\n",
      "garage_cars\n",
      "garage_style\n",
      "pool_value\n",
      "detached_structures_value\n",
      "area_code\n"
     ]
    }
   ],
   "source": [
    "for field_name, dtype in df.dtypes[df.dtypes == 'object'].items():\n",
    "    print(field_name)\n",
    "    df[field_name] = pd.Series(pd.Categorical(df[field_name]).codes)\n",
    "    \n",
    "#for feature in df.columns: # Loop through all columns in the dataframe\n",
    "#    if df[feature].dtype == 'object': # Only apply for columns with categorical strings\n",
    "#        df[feature] = pd.Categorical(df[feature]).codes # Replace strings with an integer"
   ]
  },
  {
   "cell_type": "code",
   "execution_count": 1628,
   "metadata": {},
   "outputs": [
    {
     "data": {
      "text/plain": [
       "56"
      ]
     },
     "execution_count": 1628,
     "metadata": {},
     "output_type": "execute_result"
    }
   ],
   "source": [
    "len(df.select_dtypes(include=[np.number]).columns.tolist())"
   ]
  },
  {
   "cell_type": "code",
   "execution_count": 1629,
   "metadata": {},
   "outputs": [
    {
     "name": "stdout",
     "output_type": "stream",
     "text": [
      "Series([], dtype: object)\n"
     ]
    }
   ],
   "source": [
    "print (df.dtypes[df.dtypes == 'object'])\n",
    "\n",
    "# Annnnddd... now every column has no string datatypes... :) "
   ]
  },
  {
   "cell_type": "code",
   "execution_count": null,
   "metadata": {
    "collapsed": true
   },
   "outputs": [],
   "source": []
  },
  {
   "cell_type": "code",
   "execution_count": null,
   "metadata": {
    "collapsed": true
   },
   "outputs": [],
   "source": []
  },
  {
   "cell_type": "markdown",
   "metadata": {},
   "source": [
    "### Fill NaN values with reasonable values depending on each column"
   ]
  },
  {
   "cell_type": "markdown",
   "metadata": {},
   "source": [
    "##### Find all columns that contain NaN values"
   ]
  },
  {
   "cell_type": "code",
   "execution_count": 1630,
   "metadata": {
    "scrolled": true
   },
   "outputs": [
    {
     "name": "stdout",
     "output_type": "stream",
     "text": [
      "There are  16  columns that have NaN values\n"
     ]
    },
    {
     "data": {
      "text/plain": [
       "Index([            u'liability_claim_count',\n",
       "       u'non_liability_non_cat_claim_count',\n",
       "                     u'remember_created_at',\n",
       "                              u'sale_price',\n",
       "                               u'bathrooms',\n",
       "                                u'roof_age',\n",
       "                        u'replacement_cost',\n",
       "              u'renovation_year_electrical',\n",
       "                u'renovation_year_plumbing',\n",
       "            u'renovation_year_water_heater',\n",
       "                 u'renovation_year_heating',\n",
       "                                 u'stories',\n",
       "                   u'foundation_percentage',\n",
       "                          u'half_bathrooms',\n",
       "                          u'full_bathrooms',\n",
       "                u'one_and_a_half_bathrooms'],\n",
       "      dtype='object')"
      ]
     },
     "execution_count": 1630,
     "metadata": {},
     "output_type": "execute_result"
    }
   ],
   "source": [
    "df.isna().any() # shows True or False if it contains NaN values\n",
    "\n",
    "print 'There are ', len(df.isna().any()[df.isna().any() == True].index), ' columns that have NaN values'\n",
    "\n",
    "df.isna().any()[df.isna().any() == True].index"
   ]
  },
  {
   "cell_type": "code",
   "execution_count": 1631,
   "metadata": {},
   "outputs": [
    {
     "data": {
      "text/plain": [
       "21222"
      ]
     },
     "execution_count": 1631,
     "metadata": {},
     "output_type": "execute_result"
    }
   ],
   "source": [
    "df['liability_claim_count'].isnull().sum()\n",
    "df['non_liability_non_cat_claim_count'].isnull().sum()\n",
    "df['remember_created_at'].isnull().sum()\n",
    "df['sale_price'].isnull().sum()\n",
    "df['bathrooms'].isnull().sum()\n",
    "df['roof_age'].isnull().sum()\n",
    "df['replacement_cost'].isnull().sum()\n",
    "df['renovation_year_electrical'].isnull().sum()\n",
    "df['renovation_year_plumbing'].isnull().sum()\n",
    "df['renovation_year_water_heater'].isnull().sum()\n",
    "df['renovation_year_heating'].isnull().sum()\n",
    "df['stories'].value_counts()\n",
    "df['foundation_percentage'].value_counts()\n",
    "df['half_bathrooms'].value_counts()\n",
    "df['full_bathrooms'].value_counts()\n",
    "df['one_and_a_half_bathrooms'].isnull().sum()"
   ]
  },
  {
   "cell_type": "code",
   "execution_count": 1632,
   "metadata": {},
   "outputs": [
    {
     "data": {
      "text/plain": [
       "Series([], Name: one_and_a_half_bathrooms, dtype: float64)"
      ]
     },
     "execution_count": 1632,
     "metadata": {},
     "output_type": "execute_result"
    }
   ],
   "source": [
    "df['one_and_a_half_bathrooms'].loc[df['one_and_a_half_bathrooms']==0]"
   ]
  },
  {
   "cell_type": "code",
   "execution_count": 1633,
   "metadata": {
    "collapsed": true
   },
   "outputs": [],
   "source": [
    "df['liability_claim_count'] = df['liability_claim_count'].fillna(-1)\n",
    "df['non_liability_non_cat_claim_count'] = df['non_liability_non_cat_claim_count'].fillna(-1)\n",
    "df['remember_created_at'] = df['remember_created_at'].fillna(-1)\n",
    "df['sale_price'] = df['sale_price'].fillna(-1)\n",
    "df['bathrooms'] = df['bathrooms'].fillna(-1)\n",
    "df['roof_age'] = df['roof_age'].fillna(-1)\n",
    "df['replacement_cost'] = df['replacement_cost'].fillna(df['replacement_cost'].mean()) # fill with mean\n",
    "df['renovation_year_electrical'] = df['renovation_year_electrical'].fillna(-1) # -1 means they never had a renovation\n",
    "df['renovation_year_plumbing'] = df['renovation_year_plumbing'].fillna(-1)\n",
    "df['renovation_year_water_heater'] = df['renovation_year_water_heater'].fillna(-1)\n",
    "df['renovation_year_heating'] = df['renovation_year_heating'].fillna(-1)\n",
    "df['stories'] = df['stories'].fillna(1) # fill with the majority class by a lot\n",
    "df['foundation_percentage'] = df['foundation_percentage'].fillna(100) # majority class by a lot\n",
    "df['half_bathrooms'] = df['half_bathrooms'].fillna(-1) # -1 means we don't know\n",
    "df['full_bathrooms'] = df['full_bathrooms'].fillna(2) # majority class\n",
    "df['one_and_a_half_bathrooms'] = df['one_and_a_half_bathrooms'].fillna(-1) # -1 means we don't know"
   ]
  },
  {
   "cell_type": "code",
   "execution_count": 1634,
   "metadata": {},
   "outputs": [
    {
     "name": "stdout",
     "output_type": "stream",
     "text": [
      "0\n",
      "0\n",
      "0\n",
      "0\n",
      "0\n",
      "0\n",
      "0\n",
      "0\n",
      "0\n",
      "0\n",
      "0\n",
      "0\n",
      "0\n",
      "0\n",
      "0\n",
      "0\n"
     ]
    }
   ],
   "source": [
    "# All of these outputs should be 0 -> i.e. have no null values\n",
    "print df['liability_claim_count'].isnull().sum()\n",
    "print df['non_liability_non_cat_claim_count'].isnull().sum()\n",
    "print df['remember_created_at'].isnull().sum()\n",
    "print df['sale_price'].isnull().sum()\n",
    "print df['bathrooms'].isnull().sum()\n",
    "print df['roof_age'].isnull().sum()\n",
    "print df['replacement_cost'].isnull().sum()\n",
    "print df['renovation_year_electrical'].isnull().sum()\n",
    "print df['renovation_year_plumbing'].isnull().sum()\n",
    "print df['renovation_year_water_heater'].isnull().sum()\n",
    "print df['renovation_year_heating'].isnull().sum()\n",
    "print df['stories'].isnull().sum()\n",
    "print df['foundation_percentage'].isnull().sum()\n",
    "print df['half_bathrooms'].isnull().sum()\n",
    "print df['full_bathrooms'].isnull().sum()\n",
    "print df['one_and_a_half_bathrooms'].isnull().sum()"
   ]
  },
  {
   "cell_type": "markdown",
   "metadata": {},
   "source": [
    "### Convert the datetime cells to numeric cells"
   ]
  },
  {
   "cell_type": "code",
   "execution_count": 1635,
   "metadata": {},
   "outputs": [
    {
     "data": {
      "text/plain": [
       "Index([  u'created_at_insureds',   u'updated_at_insureds',\n",
       "       u'created_at_households', u'updated_at_households',\n",
       "         u'remember_created_at', u'created_at_properties',\n",
       "       u'updated_at_properties'],\n",
       "      dtype='object')"
      ]
     },
     "execution_count": 1635,
     "metadata": {},
     "output_type": "execute_result"
    }
   ],
   "source": [
    "categories= ['object', 'datetime64', 'datetime', 'timedelta', 'timedelta64', 'category', 'datetimetz']\n",
    "df.select_dtypes(include=categories)\n",
    "df.select_dtypes(include=categories).columns"
   ]
  },
  {
   "cell_type": "code",
   "execution_count": 1636,
   "metadata": {},
   "outputs": [
    {
     "data": {
      "text/html": [
       "<div>\n",
       "<style scoped>\n",
       "    .dataframe tbody tr th:only-of-type {\n",
       "        vertical-align: middle;\n",
       "    }\n",
       "\n",
       "    .dataframe tbody tr th {\n",
       "        vertical-align: top;\n",
       "    }\n",
       "\n",
       "    .dataframe thead th {\n",
       "        text-align: right;\n",
       "    }\n",
       "</style>\n",
       "<table border=\"1\" class=\"dataframe\">\n",
       "  <thead>\n",
       "    <tr style=\"text-align: right;\">\n",
       "      <th></th>\n",
       "      <th>created_at_insureds</th>\n",
       "      <th>updated_at_insureds</th>\n",
       "      <th>created_at_households</th>\n",
       "      <th>updated_at_households</th>\n",
       "      <th>remember_created_at</th>\n",
       "      <th>created_at_properties</th>\n",
       "      <th>updated_at_properties</th>\n",
       "    </tr>\n",
       "  </thead>\n",
       "  <tbody>\n",
       "    <tr>\n",
       "      <th>0</th>\n",
       "      <td>2017-06-01 19:11:05.353477</td>\n",
       "      <td>2017-06-01 19:11:05.353477</td>\n",
       "      <td>2017-06-01 19:02:22.628143</td>\n",
       "      <td>2017-06-01 19:02:22.675266</td>\n",
       "      <td>2017-06-01 19:02:22.673601</td>\n",
       "      <td>2017-06-01 19:02:22.929275</td>\n",
       "      <td>2017-12-19 19:40:55.227872</td>\n",
       "    </tr>\n",
       "    <tr>\n",
       "      <th>1</th>\n",
       "      <td>2017-06-02 11:25:10.435432</td>\n",
       "      <td>2017-06-02 11:25:10.435432</td>\n",
       "      <td>2017-06-02 11:22:52.782917</td>\n",
       "      <td>2017-06-02 11:22:52.826031</td>\n",
       "      <td>2017-06-02 11:22:52.824468</td>\n",
       "      <td>2017-06-02 11:22:53.166041</td>\n",
       "      <td>2017-12-15 18:57:59.187345</td>\n",
       "    </tr>\n",
       "    <tr>\n",
       "      <th>2</th>\n",
       "      <td>2017-06-02 18:09:05.369519</td>\n",
       "      <td>2017-06-02 18:09:05.369519</td>\n",
       "      <td>2017-06-02 18:07:13.228093</td>\n",
       "      <td>2017-06-02 18:07:13.286320</td>\n",
       "      <td>2017-06-02 18:07:13.283250</td>\n",
       "      <td>2017-06-02 18:07:13.730634</td>\n",
       "      <td>2017-12-19 19:40:55.519159</td>\n",
       "    </tr>\n",
       "    <tr>\n",
       "      <th>3</th>\n",
       "      <td>2017-06-05 14:18:04.850484</td>\n",
       "      <td>2017-06-05 14:18:04.850484</td>\n",
       "      <td>2017-06-05 14:15:15.701160</td>\n",
       "      <td>2017-06-05 14:15:15.745619</td>\n",
       "      <td>2017-06-05 14:15:15.744237</td>\n",
       "      <td>2017-06-05 14:15:15.922421</td>\n",
       "      <td>2017-12-19 19:40:55.999307</td>\n",
       "    </tr>\n",
       "    <tr>\n",
       "      <th>4</th>\n",
       "      <td>2017-06-05 18:19:52.293784</td>\n",
       "      <td>2017-06-05 18:19:52.293784</td>\n",
       "      <td>2017-06-05 18:13:38.419674</td>\n",
       "      <td>2017-06-05 18:13:38.464183</td>\n",
       "      <td>2017-06-05 18:13:38.462515</td>\n",
       "      <td>2017-06-05 18:13:38.799695</td>\n",
       "      <td>2017-12-19 19:40:56.133075</td>\n",
       "    </tr>\n",
       "    <tr>\n",
       "      <th>5</th>\n",
       "      <td>2017-06-05 23:28:41.243767</td>\n",
       "      <td>2017-06-05 23:28:41.243767</td>\n",
       "      <td>2017-06-05 22:45:44.991487</td>\n",
       "      <td>2017-06-05 22:50:49.155561</td>\n",
       "      <td>2017-06-05 22:50:49.153701</td>\n",
       "      <td>2017-06-05 22:45:45.261975</td>\n",
       "      <td>2017-12-19 19:40:56.347447</td>\n",
       "    </tr>\n",
       "    <tr>\n",
       "      <th>6</th>\n",
       "      <td>2017-06-06 12:26:57.590610</td>\n",
       "      <td>2017-06-06 12:26:57.590610</td>\n",
       "      <td>2017-06-05 21:49:10.414329</td>\n",
       "      <td>2017-06-06 12:13:05.220885</td>\n",
       "      <td>2017-06-06 12:13:05.218922</td>\n",
       "      <td>2017-06-05 21:49:10.620681</td>\n",
       "      <td>2017-12-19 19:40:56.314880</td>\n",
       "    </tr>\n",
       "    <tr>\n",
       "      <th>7</th>\n",
       "      <td>2017-06-06 19:05:50.459851</td>\n",
       "      <td>2017-06-06 19:05:50.459851</td>\n",
       "      <td>2017-06-06 19:03:26.998096</td>\n",
       "      <td>2017-06-06 19:14:13.952942</td>\n",
       "      <td>2017-06-06 19:14:13.951352</td>\n",
       "      <td>2017-06-06 19:03:41.863607</td>\n",
       "      <td>2017-12-19 19:40:56.988547</td>\n",
       "    </tr>\n",
       "    <tr>\n",
       "      <th>8</th>\n",
       "      <td>2017-06-07 18:59:35.593286</td>\n",
       "      <td>2017-06-07 18:59:35.593286</td>\n",
       "      <td>2017-06-07 18:56:43.009607</td>\n",
       "      <td>2017-06-07 18:56:43.051700</td>\n",
       "      <td>2017-06-07 18:56:43.050491</td>\n",
       "      <td>2017-06-07 18:56:43.116432</td>\n",
       "      <td>2017-12-19 19:40:57.581777</td>\n",
       "    </tr>\n",
       "    <tr>\n",
       "      <th>9</th>\n",
       "      <td>2017-06-08 14:10:10.764721</td>\n",
       "      <td>2017-06-08 14:10:10.764721</td>\n",
       "      <td>2017-06-08 12:55:03.180005</td>\n",
       "      <td>2017-06-08 14:07:38.043046</td>\n",
       "      <td>2017-06-08 14:07:38.041802</td>\n",
       "      <td>2017-06-08 12:55:03.515870</td>\n",
       "      <td>2017-12-19 19:40:57.781241</td>\n",
       "    </tr>\n",
       "  </tbody>\n",
       "</table>\n",
       "</div>"
      ],
      "text/plain": [
       "         created_at_insureds        updated_at_insureds  \\\n",
       "0 2017-06-01 19:11:05.353477 2017-06-01 19:11:05.353477   \n",
       "1 2017-06-02 11:25:10.435432 2017-06-02 11:25:10.435432   \n",
       "2 2017-06-02 18:09:05.369519 2017-06-02 18:09:05.369519   \n",
       "3 2017-06-05 14:18:04.850484 2017-06-05 14:18:04.850484   \n",
       "4 2017-06-05 18:19:52.293784 2017-06-05 18:19:52.293784   \n",
       "5 2017-06-05 23:28:41.243767 2017-06-05 23:28:41.243767   \n",
       "6 2017-06-06 12:26:57.590610 2017-06-06 12:26:57.590610   \n",
       "7 2017-06-06 19:05:50.459851 2017-06-06 19:05:50.459851   \n",
       "8 2017-06-07 18:59:35.593286 2017-06-07 18:59:35.593286   \n",
       "9 2017-06-08 14:10:10.764721 2017-06-08 14:10:10.764721   \n",
       "\n",
       "       created_at_households      updated_at_households  \\\n",
       "0 2017-06-01 19:02:22.628143 2017-06-01 19:02:22.675266   \n",
       "1 2017-06-02 11:22:52.782917 2017-06-02 11:22:52.826031   \n",
       "2 2017-06-02 18:07:13.228093 2017-06-02 18:07:13.286320   \n",
       "3 2017-06-05 14:15:15.701160 2017-06-05 14:15:15.745619   \n",
       "4 2017-06-05 18:13:38.419674 2017-06-05 18:13:38.464183   \n",
       "5 2017-06-05 22:45:44.991487 2017-06-05 22:50:49.155561   \n",
       "6 2017-06-05 21:49:10.414329 2017-06-06 12:13:05.220885   \n",
       "7 2017-06-06 19:03:26.998096 2017-06-06 19:14:13.952942   \n",
       "8 2017-06-07 18:56:43.009607 2017-06-07 18:56:43.051700   \n",
       "9 2017-06-08 12:55:03.180005 2017-06-08 14:07:38.043046   \n",
       "\n",
       "          remember_created_at      created_at_properties  \\\n",
       "0  2017-06-01 19:02:22.673601 2017-06-01 19:02:22.929275   \n",
       "1  2017-06-02 11:22:52.824468 2017-06-02 11:22:53.166041   \n",
       "2  2017-06-02 18:07:13.283250 2017-06-02 18:07:13.730634   \n",
       "3  2017-06-05 14:15:15.744237 2017-06-05 14:15:15.922421   \n",
       "4  2017-06-05 18:13:38.462515 2017-06-05 18:13:38.799695   \n",
       "5  2017-06-05 22:50:49.153701 2017-06-05 22:45:45.261975   \n",
       "6  2017-06-06 12:13:05.218922 2017-06-05 21:49:10.620681   \n",
       "7  2017-06-06 19:14:13.951352 2017-06-06 19:03:41.863607   \n",
       "8  2017-06-07 18:56:43.050491 2017-06-07 18:56:43.116432   \n",
       "9  2017-06-08 14:07:38.041802 2017-06-08 12:55:03.515870   \n",
       "\n",
       "       updated_at_properties  \n",
       "0 2017-12-19 19:40:55.227872  \n",
       "1 2017-12-15 18:57:59.187345  \n",
       "2 2017-12-19 19:40:55.519159  \n",
       "3 2017-12-19 19:40:55.999307  \n",
       "4 2017-12-19 19:40:56.133075  \n",
       "5 2017-12-19 19:40:56.347447  \n",
       "6 2017-12-19 19:40:56.314880  \n",
       "7 2017-12-19 19:40:56.988547  \n",
       "8 2017-12-19 19:40:57.581777  \n",
       "9 2017-12-19 19:40:57.781241  "
      ]
     },
     "execution_count": 1636,
     "metadata": {},
     "output_type": "execute_result"
    }
   ],
   "source": [
    "categories= ['object', 'datetime64', 'datetime', 'timedelta', 'timedelta64', 'category', 'datetimetz']\n",
    "\n",
    "# Loop through all columns in the dataframe that have dtype=categories\n",
    "for feature in df.select_dtypes(include=categories).columns:\n",
    "    try:\n",
    "        df[feature] = pd.to_datetime(df[feature]) # Convert datetime string columns to datetime object columns\n",
    "    except ValueError: # Except ValueError because df['remember_created_at'] has mixed datatypes since I filled NaN values with -1 \n",
    "        df[feature]\n",
    "\n",
    "df.select_dtypes(include=categories).head(10)"
   ]
  },
  {
   "cell_type": "code",
   "execution_count": 1637,
   "metadata": {},
   "outputs": [
    {
     "data": {
      "text/plain": [
       "['created_at_insureds',\n",
       " 'updated_at_insureds',\n",
       " 'created_at_households',\n",
       " 'updated_at_households',\n",
       " u'remember_created_at',\n",
       " 'created_at_properties',\n",
       " 'updated_at_properties']"
      ]
     },
     "execution_count": 1637,
     "metadata": {},
     "output_type": "execute_result"
    }
   ],
   "source": [
    "# get only year and month from date columns\n",
    "#i=0\n",
    "#while i < len(df):\n",
    "#    for feature in df.select_dtypes(include=categories).columns:\n",
    "#        try:\n",
    "#            #print df.select_dtypes(include=categories)[feature][i]\n",
    "#            df[feature][i] = get_year_month(df.select_dtypes(include=categories)[feature][i])\n",
    "#        except ValueError:\n",
    "#            pass\n",
    "#        except AttributeError:\n",
    "#            pass\n",
    "#    i+=1\n",
    "\n",
    "date_feats = list(df.select_dtypes(include=categories).columns)\n",
    "#date_feats.remove('remember_created_at')\n",
    "date_feats\n",
    "\n",
    "for feature in date_feats:\n",
    "    try:\n",
    "        df[feature] = df[feature].apply(lambda x: get_year_month(x))\n",
    "    except AttributeError:\n",
    "        pass\n",
    "date_feats"
   ]
  },
  {
   "cell_type": "code",
   "execution_count": 1638,
   "metadata": {},
   "outputs": [
    {
     "data": {
      "text/html": [
       "<div>\n",
       "<style scoped>\n",
       "    .dataframe tbody tr th:only-of-type {\n",
       "        vertical-align: middle;\n",
       "    }\n",
       "\n",
       "    .dataframe tbody tr th {\n",
       "        vertical-align: top;\n",
       "    }\n",
       "\n",
       "    .dataframe thead th {\n",
       "        text-align: right;\n",
       "    }\n",
       "</style>\n",
       "<table border=\"1\" class=\"dataframe\">\n",
       "  <thead>\n",
       "    <tr style=\"text-align: right;\">\n",
       "      <th></th>\n",
       "      <th>created_at_insureds</th>\n",
       "      <th>updated_at_insureds</th>\n",
       "      <th>created_at_households</th>\n",
       "      <th>updated_at_households</th>\n",
       "      <th>remember_created_at</th>\n",
       "      <th>created_at_properties</th>\n",
       "      <th>updated_at_properties</th>\n",
       "    </tr>\n",
       "  </thead>\n",
       "  <tbody>\n",
       "    <tr>\n",
       "      <th>0</th>\n",
       "      <td>(2017, 6)</td>\n",
       "      <td>(2017, 6)</td>\n",
       "      <td>(2017, 6)</td>\n",
       "      <td>(2017, 6)</td>\n",
       "      <td>2017-06-01 19:02:22.673601</td>\n",
       "      <td>(2017, 6)</td>\n",
       "      <td>(2017, 12)</td>\n",
       "    </tr>\n",
       "    <tr>\n",
       "      <th>1</th>\n",
       "      <td>(2017, 6)</td>\n",
       "      <td>(2017, 6)</td>\n",
       "      <td>(2017, 6)</td>\n",
       "      <td>(2017, 6)</td>\n",
       "      <td>2017-06-02 11:22:52.824468</td>\n",
       "      <td>(2017, 6)</td>\n",
       "      <td>(2017, 12)</td>\n",
       "    </tr>\n",
       "    <tr>\n",
       "      <th>2</th>\n",
       "      <td>(2017, 6)</td>\n",
       "      <td>(2017, 6)</td>\n",
       "      <td>(2017, 6)</td>\n",
       "      <td>(2017, 6)</td>\n",
       "      <td>2017-06-02 18:07:13.283250</td>\n",
       "      <td>(2017, 6)</td>\n",
       "      <td>(2017, 12)</td>\n",
       "    </tr>\n",
       "    <tr>\n",
       "      <th>3</th>\n",
       "      <td>(2017, 6)</td>\n",
       "      <td>(2017, 6)</td>\n",
       "      <td>(2017, 6)</td>\n",
       "      <td>(2017, 6)</td>\n",
       "      <td>2017-06-05 14:15:15.744237</td>\n",
       "      <td>(2017, 6)</td>\n",
       "      <td>(2017, 12)</td>\n",
       "    </tr>\n",
       "    <tr>\n",
       "      <th>4</th>\n",
       "      <td>(2017, 6)</td>\n",
       "      <td>(2017, 6)</td>\n",
       "      <td>(2017, 6)</td>\n",
       "      <td>(2017, 6)</td>\n",
       "      <td>2017-06-05 18:13:38.462515</td>\n",
       "      <td>(2017, 6)</td>\n",
       "      <td>(2017, 12)</td>\n",
       "    </tr>\n",
       "  </tbody>\n",
       "</table>\n",
       "</div>"
      ],
      "text/plain": [
       "  created_at_insureds updated_at_insureds created_at_households  \\\n",
       "0           (2017, 6)           (2017, 6)             (2017, 6)   \n",
       "1           (2017, 6)           (2017, 6)             (2017, 6)   \n",
       "2           (2017, 6)           (2017, 6)             (2017, 6)   \n",
       "3           (2017, 6)           (2017, 6)             (2017, 6)   \n",
       "4           (2017, 6)           (2017, 6)             (2017, 6)   \n",
       "\n",
       "  updated_at_households         remember_created_at created_at_properties  \\\n",
       "0             (2017, 6)  2017-06-01 19:02:22.673601             (2017, 6)   \n",
       "1             (2017, 6)  2017-06-02 11:22:52.824468             (2017, 6)   \n",
       "2             (2017, 6)  2017-06-02 18:07:13.283250             (2017, 6)   \n",
       "3             (2017, 6)  2017-06-05 14:15:15.744237             (2017, 6)   \n",
       "4             (2017, 6)  2017-06-05 18:13:38.462515             (2017, 6)   \n",
       "\n",
       "  updated_at_properties  \n",
       "0            (2017, 12)  \n",
       "1            (2017, 12)  \n",
       "2            (2017, 12)  \n",
       "3            (2017, 12)  \n",
       "4            (2017, 12)  "
      ]
     },
     "execution_count": 1638,
     "metadata": {},
     "output_type": "execute_result"
    }
   ],
   "source": [
    "df.select_dtypes(include=categories).head()"
   ]
  },
  {
   "cell_type": "code",
   "execution_count": 1639,
   "metadata": {},
   "outputs": [
    {
     "data": {
      "text/plain": [
       "0    (2017, 6)\n",
       "1    (2017, 6)\n",
       "2    (2017, 6)\n",
       "3    (2017, 6)\n",
       "4    (2017, 6)\n",
       "Name: remember_created_at, dtype: object"
      ]
     },
     "execution_count": 1639,
     "metadata": {},
     "output_type": "execute_result"
    }
   ],
   "source": [
    "lst=[]\n",
    "for i in df['remember_created_at']:\n",
    "    try:\n",
    "        if type(i) != int:\n",
    "            lst.append(get_year_month(i))\n",
    "        else:\n",
    "            lst.append(i)\n",
    "    except ValueError:\n",
    "        pass\n",
    "    except AttributeError:\n",
    "        pass\n",
    "\n",
    "df['remember_created_at'] = pd.Series(lst)\n",
    "df['remember_created_at'].head()"
   ]
  },
  {
   "cell_type": "code",
   "execution_count": 1640,
   "metadata": {},
   "outputs": [
    {
     "data": {
      "text/html": [
       "<div>\n",
       "<style scoped>\n",
       "    .dataframe tbody tr th:only-of-type {\n",
       "        vertical-align: middle;\n",
       "    }\n",
       "\n",
       "    .dataframe tbody tr th {\n",
       "        vertical-align: top;\n",
       "    }\n",
       "\n",
       "    .dataframe thead th {\n",
       "        text-align: right;\n",
       "    }\n",
       "</style>\n",
       "<table border=\"1\" class=\"dataframe\">\n",
       "  <thead>\n",
       "    <tr style=\"text-align: right;\">\n",
       "      <th></th>\n",
       "      <th>created_at_insureds</th>\n",
       "      <th>updated_at_insureds</th>\n",
       "      <th>created_at_households</th>\n",
       "      <th>updated_at_households</th>\n",
       "      <th>remember_created_at</th>\n",
       "      <th>created_at_properties</th>\n",
       "      <th>updated_at_properties</th>\n",
       "    </tr>\n",
       "  </thead>\n",
       "  <tbody>\n",
       "    <tr>\n",
       "      <th>0</th>\n",
       "      <td>(2017, 6)</td>\n",
       "      <td>(2017, 6)</td>\n",
       "      <td>(2017, 6)</td>\n",
       "      <td>(2017, 6)</td>\n",
       "      <td>(2017, 6)</td>\n",
       "      <td>(2017, 6)</td>\n",
       "      <td>(2017, 12)</td>\n",
       "    </tr>\n",
       "    <tr>\n",
       "      <th>1</th>\n",
       "      <td>(2017, 6)</td>\n",
       "      <td>(2017, 6)</td>\n",
       "      <td>(2017, 6)</td>\n",
       "      <td>(2017, 6)</td>\n",
       "      <td>(2017, 6)</td>\n",
       "      <td>(2017, 6)</td>\n",
       "      <td>(2017, 12)</td>\n",
       "    </tr>\n",
       "    <tr>\n",
       "      <th>2</th>\n",
       "      <td>(2017, 6)</td>\n",
       "      <td>(2017, 6)</td>\n",
       "      <td>(2017, 6)</td>\n",
       "      <td>(2017, 6)</td>\n",
       "      <td>(2017, 6)</td>\n",
       "      <td>(2017, 6)</td>\n",
       "      <td>(2017, 12)</td>\n",
       "    </tr>\n",
       "    <tr>\n",
       "      <th>3</th>\n",
       "      <td>(2017, 6)</td>\n",
       "      <td>(2017, 6)</td>\n",
       "      <td>(2017, 6)</td>\n",
       "      <td>(2017, 6)</td>\n",
       "      <td>(2017, 6)</td>\n",
       "      <td>(2017, 6)</td>\n",
       "      <td>(2017, 12)</td>\n",
       "    </tr>\n",
       "    <tr>\n",
       "      <th>4</th>\n",
       "      <td>(2017, 6)</td>\n",
       "      <td>(2017, 6)</td>\n",
       "      <td>(2017, 6)</td>\n",
       "      <td>(2017, 6)</td>\n",
       "      <td>(2017, 6)</td>\n",
       "      <td>(2017, 6)</td>\n",
       "      <td>(2017, 12)</td>\n",
       "    </tr>\n",
       "  </tbody>\n",
       "</table>\n",
       "</div>"
      ],
      "text/plain": [
       "  created_at_insureds updated_at_insureds created_at_households  \\\n",
       "0           (2017, 6)           (2017, 6)             (2017, 6)   \n",
       "1           (2017, 6)           (2017, 6)             (2017, 6)   \n",
       "2           (2017, 6)           (2017, 6)             (2017, 6)   \n",
       "3           (2017, 6)           (2017, 6)             (2017, 6)   \n",
       "4           (2017, 6)           (2017, 6)             (2017, 6)   \n",
       "\n",
       "  updated_at_households remember_created_at created_at_properties  \\\n",
       "0             (2017, 6)           (2017, 6)             (2017, 6)   \n",
       "1             (2017, 6)           (2017, 6)             (2017, 6)   \n",
       "2             (2017, 6)           (2017, 6)             (2017, 6)   \n",
       "3             (2017, 6)           (2017, 6)             (2017, 6)   \n",
       "4             (2017, 6)           (2017, 6)             (2017, 6)   \n",
       "\n",
       "  updated_at_properties  \n",
       "0            (2017, 12)  \n",
       "1            (2017, 12)  \n",
       "2            (2017, 12)  \n",
       "3            (2017, 12)  \n",
       "4            (2017, 12)  "
      ]
     },
     "execution_count": 1640,
     "metadata": {},
     "output_type": "execute_result"
    }
   ],
   "source": [
    "df.select_dtypes(include=categories).head()"
   ]
  },
  {
   "cell_type": "code",
   "execution_count": 1641,
   "metadata": {},
   "outputs": [
    {
     "name": "stdout",
     "output_type": "stream",
     "text": [
      "created_at_insureds\n",
      "updated_at_insureds\n",
      "created_at_households\n",
      "updated_at_households\n",
      "remember_created_at\n",
      "created_at_properties\n",
      "updated_at_properties\n"
     ]
    }
   ],
   "source": [
    "# Get categorical codes for date columns\n",
    "\n",
    "for field_name, dtype in df.select_dtypes(include=categories).items():\n",
    "    print(field_name)\n",
    "    df[field_name] = pd.Series(pd.Categorical(df[field_name]).codes)"
   ]
  },
  {
   "cell_type": "code",
   "execution_count": 1642,
   "metadata": {},
   "outputs": [
    {
     "data": {
      "text/html": [
       "<div>\n",
       "<style scoped>\n",
       "    .dataframe tbody tr th:only-of-type {\n",
       "        vertical-align: middle;\n",
       "    }\n",
       "\n",
       "    .dataframe tbody tr th {\n",
       "        vertical-align: top;\n",
       "    }\n",
       "\n",
       "    .dataframe thead th {\n",
       "        text-align: right;\n",
       "    }\n",
       "</style>\n",
       "<table border=\"1\" class=\"dataframe\">\n",
       "  <thead>\n",
       "    <tr style=\"text-align: right;\">\n",
       "      <th></th>\n",
       "      <th>co_applicant</th>\n",
       "      <th>new_home</th>\n",
       "      <th>hail_resistant_roof</th>\n",
       "    </tr>\n",
       "  </thead>\n",
       "  <tbody>\n",
       "    <tr>\n",
       "      <th>0</th>\n",
       "      <td>False</td>\n",
       "      <td>False</td>\n",
       "      <td>False</td>\n",
       "    </tr>\n",
       "    <tr>\n",
       "      <th>1</th>\n",
       "      <td>False</td>\n",
       "      <td>False</td>\n",
       "      <td>False</td>\n",
       "    </tr>\n",
       "    <tr>\n",
       "      <th>2</th>\n",
       "      <td>False</td>\n",
       "      <td>False</td>\n",
       "      <td>False</td>\n",
       "    </tr>\n",
       "    <tr>\n",
       "      <th>3</th>\n",
       "      <td>False</td>\n",
       "      <td>False</td>\n",
       "      <td>False</td>\n",
       "    </tr>\n",
       "    <tr>\n",
       "      <th>4</th>\n",
       "      <td>False</td>\n",
       "      <td>False</td>\n",
       "      <td>False</td>\n",
       "    </tr>\n",
       "  </tbody>\n",
       "</table>\n",
       "</div>"
      ],
      "text/plain": [
       "   co_applicant  new_home  hail_resistant_roof\n",
       "0         False     False                False\n",
       "1         False     False                False\n",
       "2         False     False                False\n",
       "3         False     False                False\n",
       "4         False     False                False"
      ]
     },
     "execution_count": 1642,
     "metadata": {},
     "output_type": "execute_result"
    }
   ],
   "source": [
    "df.select_dtypes(include='bool').head()"
   ]
  },
  {
   "cell_type": "code",
   "execution_count": 1643,
   "metadata": {
    "collapsed": true
   },
   "outputs": [],
   "source": [
    "# One hot encode features with boolean values \n",
    "\n",
    "df = pd.get_dummies(df, columns = ['new_home', 'hail_resistant_roof'],\n",
    "                    drop_first=True)"
   ]
  },
  {
   "cell_type": "code",
   "execution_count": null,
   "metadata": {
    "collapsed": true
   },
   "outputs": [],
   "source": []
  },
  {
   "cell_type": "markdown",
   "metadata": {},
   "source": [
    "### Drop rows where co_applicant == True because of duplication"
   ]
  },
  {
   "cell_type": "code",
   "execution_count": 1644,
   "metadata": {
    "collapsed": true
   },
   "outputs": [],
   "source": [
    "df = df[df.co_applicant != True]"
   ]
  },
  {
   "cell_type": "code",
   "execution_count": 1645,
   "metadata": {},
   "outputs": [
    {
     "data": {
      "text/plain": [
       "21173"
      ]
     },
     "execution_count": 1645,
     "metadata": {},
     "output_type": "execute_result"
    }
   ],
   "source": [
    "len(df)"
   ]
  },
  {
   "cell_type": "code",
   "execution_count": 1646,
   "metadata": {
    "collapsed": true
   },
   "outputs": [],
   "source": [
    "#df.to_csv('/Users/mattelgazar/Desktop/Data/insureds_joined_readable.csv')"
   ]
  },
  {
   "cell_type": "markdown",
   "metadata": {},
   "source": [
    "# Apply Machine Learning to Predict Who Will Be Bound"
   ]
  },
  {
   "cell_type": "code",
   "execution_count": 1647,
   "metadata": {},
   "outputs": [
    {
     "data": {
      "text/plain": [
       "Index([], dtype='object')"
      ]
     },
     "execution_count": 1647,
     "metadata": {},
     "output_type": "execute_result"
    }
   ],
   "source": [
    "from sklearn.model_selection import train_test_split\n",
    "\n",
    "X = df.drop('bound_at', axis=1)\n",
    "y = df['bound_at']\n",
    "\n",
    "X_train, X_test, y_train, y_test = train_test_split(X, y, random_state=0)\n",
    "\n",
    "# Check for null values in X\n",
    "df.isnull().any()[df.isnull().any() == True].index # should not show any values"
   ]
  },
  {
   "cell_type": "markdown",
   "metadata": {},
   "source": [
    "### Find the benchmark predictions using a dummy set"
   ]
  },
  {
   "cell_type": "code",
   "execution_count": 1648,
   "metadata": {},
   "outputs": [
    {
     "data": {
      "text/plain": [
       "0    18375\n",
       "1     2798\n",
       "Name: bound_at, dtype: int64"
      ]
     },
     "execution_count": 1648,
     "metadata": {},
     "output_type": "execute_result"
    }
   ],
   "source": [
    "y.value_counts()"
   ]
  },
  {
   "cell_type": "code",
   "execution_count": 1649,
   "metadata": {
    "collapsed": true
   },
   "outputs": [],
   "source": [
    "from sklearn.dummy import DummyClassifier\n",
    "\n",
    "# Define a dummy model for a benchmark that predicts the majority class every time\n",
    "dummy_majority = DummyClassifier(strategy = 'most_frequent').fit(X, y)\n",
    "y_predict_dummy = dummy_majority.fit(X, y)"
   ]
  },
  {
   "cell_type": "code",
   "execution_count": 1650,
   "metadata": {},
   "outputs": [
    {
     "name": "stdout",
     "output_type": "stream",
     "text": [
      "Dummy Classification Train Accuracy:  0.7768751180804837\n",
      "Dummy Classification Report for training set: \n",
      "               precision    recall  f1-score   support\n",
      "\n",
      "          0       0.88      0.87      0.87     13891\n",
      "          1       0.14      0.14      0.14      1988\n",
      "\n",
      "avg / total       0.78      0.78      0.78     15879\n",
      "\n",
      "Dummy Classification Test Accuracy:  0.7610502455610124\n",
      "Dummy Classification Report for test set: \n",
      "               precision    recall  f1-score   support\n",
      "\n",
      "          0       0.85      0.87      0.86      4484\n",
      "          1       0.16      0.13      0.14       810\n",
      "\n",
      "avg / total       0.74      0.76      0.75      5294\n",
      "\n",
      "Dummy Classification ROC AUC:  0.5028763449741743\n"
     ]
    }
   ],
   "source": [
    "from sklearn.metrics import accuracy_score, precision_score, recall_score, f1_score, classification_report, roc_auc_score\n",
    "\n",
    "count_majorities = y.value_counts()  # 0 is most frequent, i.e. most people don't get bound\n",
    "\n",
    "y_dummy_train_predict = y[0:len(X_train)]\n",
    "y_dummy_test_predict = y[len(X_train):]\n",
    "\n",
    "# Find classification report for dummy classifier\n",
    "print 'Dummy Classification Train Accuracy: ', accuracy_score(y_dummy_train_predict, y_train)\n",
    "print 'Dummy Classification Report for training set: \\n ', classification_report(y_dummy_train_predict, y_train)\n",
    "\n",
    "print 'Dummy Classification Test Accuracy: ', accuracy_score(y_dummy_test_predict, y_test)\n",
    "print 'Dummy Classification Report for test set: \\n ', classification_report(y_dummy_test_predict, y_test)\n",
    "print 'Dummy Classification ROC AUC: ', roc_auc_score(y_dummy_test_predict, y_test)"
   ]
  },
  {
   "cell_type": "code",
   "execution_count": null,
   "metadata": {
    "collapsed": true
   },
   "outputs": [],
   "source": []
  },
  {
   "cell_type": "markdown",
   "metadata": {},
   "source": [
    "### Apply normalization to the dataset"
   ]
  },
  {
   "cell_type": "code",
   "execution_count": 1651,
   "metadata": {
    "collapsed": true
   },
   "outputs": [],
   "source": [
    "from sklearn.preprocessing import StandardScaler\n",
    "\n",
    "scaler = StandardScaler().fit(X_train)\n",
    "X_train_scaled = scaler.transform(X_train)\n",
    "X_test_scaled = scaler.transform(X_test)"
   ]
  },
  {
   "cell_type": "code",
   "execution_count": 1652,
   "metadata": {},
   "outputs": [
    {
     "data": {
      "text/html": [
       "<div>\n",
       "<style scoped>\n",
       "    .dataframe tbody tr th:only-of-type {\n",
       "        vertical-align: middle;\n",
       "    }\n",
       "\n",
       "    .dataframe tbody tr th {\n",
       "        vertical-align: top;\n",
       "    }\n",
       "\n",
       "    .dataframe thead th {\n",
       "        text-align: right;\n",
       "    }\n",
       "</style>\n",
       "<table border=\"1\" class=\"dataframe\">\n",
       "  <thead>\n",
       "    <tr style=\"text-align: right;\">\n",
       "      <th></th>\n",
       "      <th>0</th>\n",
       "      <th>1</th>\n",
       "      <th>2</th>\n",
       "      <th>3</th>\n",
       "      <th>4</th>\n",
       "      <th>5</th>\n",
       "      <th>6</th>\n",
       "      <th>7</th>\n",
       "      <th>8</th>\n",
       "      <th>9</th>\n",
       "      <th>...</th>\n",
       "      <th>53</th>\n",
       "      <th>54</th>\n",
       "      <th>55</th>\n",
       "      <th>56</th>\n",
       "      <th>57</th>\n",
       "      <th>58</th>\n",
       "      <th>59</th>\n",
       "      <th>60</th>\n",
       "      <th>61</th>\n",
       "      <th>62</th>\n",
       "    </tr>\n",
       "  </thead>\n",
       "  <tbody>\n",
       "    <tr>\n",
       "      <th>0</th>\n",
       "      <td>-0.044018</td>\n",
       "      <td>-0.358044</td>\n",
       "      <td>0.0</td>\n",
       "      <td>-1.284363</td>\n",
       "      <td>-1.333941</td>\n",
       "      <td>0.12451</td>\n",
       "      <td>-0.183242</td>\n",
       "      <td>-0.040498</td>\n",
       "      <td>-0.050253</td>\n",
       "      <td>-0.08893</td>\n",
       "      <td>...</td>\n",
       "      <td>0.03862</td>\n",
       "      <td>-1.519894</td>\n",
       "      <td>-2.297048</td>\n",
       "      <td>-0.080698</td>\n",
       "      <td>-0.479276</td>\n",
       "      <td>-1.445402</td>\n",
       "      <td>-0.204196</td>\n",
       "      <td>0.687971</td>\n",
       "      <td>0.665528</td>\n",
       "      <td>1.153299</td>\n",
       "    </tr>\n",
       "    <tr>\n",
       "      <th>1</th>\n",
       "      <td>-0.044018</td>\n",
       "      <td>-0.133700</td>\n",
       "      <td>0.0</td>\n",
       "      <td>-0.437999</td>\n",
       "      <td>-0.473720</td>\n",
       "      <td>0.12451</td>\n",
       "      <td>-0.183242</td>\n",
       "      <td>-0.040498</td>\n",
       "      <td>-0.050253</td>\n",
       "      <td>-0.08893</td>\n",
       "      <td>...</td>\n",
       "      <td>0.03862</td>\n",
       "      <td>0.398478</td>\n",
       "      <td>0.429634</td>\n",
       "      <td>-0.080698</td>\n",
       "      <td>-0.479276</td>\n",
       "      <td>-0.006434</td>\n",
       "      <td>-0.204196</td>\n",
       "      <td>-0.107676</td>\n",
       "      <td>0.025785</td>\n",
       "      <td>0.666110</td>\n",
       "    </tr>\n",
       "    <tr>\n",
       "      <th>2</th>\n",
       "      <td>-0.044018</td>\n",
       "      <td>-1.156928</td>\n",
       "      <td>0.0</td>\n",
       "      <td>-1.707544</td>\n",
       "      <td>-1.764051</td>\n",
       "      <td>0.12451</td>\n",
       "      <td>-0.183242</td>\n",
       "      <td>-0.040498</td>\n",
       "      <td>-0.050253</td>\n",
       "      <td>-0.08893</td>\n",
       "      <td>...</td>\n",
       "      <td>0.03862</td>\n",
       "      <td>0.398478</td>\n",
       "      <td>0.429634</td>\n",
       "      <td>-0.080698</td>\n",
       "      <td>-0.479276</td>\n",
       "      <td>-0.006434</td>\n",
       "      <td>-0.204196</td>\n",
       "      <td>-0.107676</td>\n",
       "      <td>1.305271</td>\n",
       "      <td>1.153299</td>\n",
       "    </tr>\n",
       "    <tr>\n",
       "      <th>3</th>\n",
       "      <td>-0.044018</td>\n",
       "      <td>-0.062566</td>\n",
       "      <td>0.0</td>\n",
       "      <td>-0.861181</td>\n",
       "      <td>-0.903831</td>\n",
       "      <td>0.12451</td>\n",
       "      <td>-0.183242</td>\n",
       "      <td>-0.040498</td>\n",
       "      <td>-0.050253</td>\n",
       "      <td>-0.08893</td>\n",
       "      <td>...</td>\n",
       "      <td>0.03862</td>\n",
       "      <td>0.398478</td>\n",
       "      <td>0.429634</td>\n",
       "      <td>-0.080698</td>\n",
       "      <td>-0.479276</td>\n",
       "      <td>1.432534</td>\n",
       "      <td>-0.204196</td>\n",
       "      <td>-0.107676</td>\n",
       "      <td>0.025785</td>\n",
       "      <td>0.803994</td>\n",
       "    </tr>\n",
       "    <tr>\n",
       "      <th>4</th>\n",
       "      <td>-0.044018</td>\n",
       "      <td>1.048211</td>\n",
       "      <td>0.0</td>\n",
       "      <td>-1.707544</td>\n",
       "      <td>-1.764051</td>\n",
       "      <td>0.12451</td>\n",
       "      <td>-0.183242</td>\n",
       "      <td>-0.040498</td>\n",
       "      <td>-0.050253</td>\n",
       "      <td>-0.08893</td>\n",
       "      <td>...</td>\n",
       "      <td>0.03862</td>\n",
       "      <td>-1.519894</td>\n",
       "      <td>-2.297048</td>\n",
       "      <td>-0.080698</td>\n",
       "      <td>-0.479276</td>\n",
       "      <td>-1.445402</td>\n",
       "      <td>-0.204196</td>\n",
       "      <td>-0.107676</td>\n",
       "      <td>-1.253702</td>\n",
       "      <td>-0.914956</td>\n",
       "    </tr>\n",
       "  </tbody>\n",
       "</table>\n",
       "<p>5 rows × 63 columns</p>\n",
       "</div>"
      ],
      "text/plain": [
       "         0         1    2         3         4        5         6         7   \\\n",
       "0 -0.044018 -0.358044  0.0 -1.284363 -1.333941  0.12451 -0.183242 -0.040498   \n",
       "1 -0.044018 -0.133700  0.0 -0.437999 -0.473720  0.12451 -0.183242 -0.040498   \n",
       "2 -0.044018 -1.156928  0.0 -1.707544 -1.764051  0.12451 -0.183242 -0.040498   \n",
       "3 -0.044018 -0.062566  0.0 -0.861181 -0.903831  0.12451 -0.183242 -0.040498   \n",
       "4 -0.044018  1.048211  0.0 -1.707544 -1.764051  0.12451 -0.183242 -0.040498   \n",
       "\n",
       "         8        9     ...          53        54        55        56  \\\n",
       "0 -0.050253 -0.08893    ...     0.03862 -1.519894 -2.297048 -0.080698   \n",
       "1 -0.050253 -0.08893    ...     0.03862  0.398478  0.429634 -0.080698   \n",
       "2 -0.050253 -0.08893    ...     0.03862  0.398478  0.429634 -0.080698   \n",
       "3 -0.050253 -0.08893    ...     0.03862  0.398478  0.429634 -0.080698   \n",
       "4 -0.050253 -0.08893    ...     0.03862 -1.519894 -2.297048 -0.080698   \n",
       "\n",
       "         57        58        59        60        61        62  \n",
       "0 -0.479276 -1.445402 -0.204196  0.687971  0.665528  1.153299  \n",
       "1 -0.479276 -0.006434 -0.204196 -0.107676  0.025785  0.666110  \n",
       "2 -0.479276 -0.006434 -0.204196 -0.107676  1.305271  1.153299  \n",
       "3 -0.479276  1.432534 -0.204196 -0.107676  0.025785  0.803994  \n",
       "4 -0.479276 -1.445402 -0.204196 -0.107676 -1.253702 -0.914956  \n",
       "\n",
       "[5 rows x 63 columns]"
      ]
     },
     "execution_count": 1652,
     "metadata": {},
     "output_type": "execute_result"
    }
   ],
   "source": [
    "pd.DataFrame(X_train_scaled).head()"
   ]
  },
  {
   "cell_type": "markdown",
   "metadata": {},
   "source": [
    "### Compare how each model performs without any tuning. This will give an idea about which model to choose."
   ]
  },
  {
   "cell_type": "code",
   "execution_count": 1653,
   "metadata": {},
   "outputs": [
    {
     "name": "stdout",
     "output_type": "stream",
     "text": [
      "AB: 0.884627 (0.002143)\n",
      "GBM: 0.894262 (0.003029)\n",
      "RF: 0.884564 (0.003503)\n",
      "ET: 0.879841 (0.004820)\n",
      "LR: 0.864979 (0.000441)\n",
      "SGD: 0.721245 (0.193638)\n"
     ]
    }
   ],
   "source": [
    "# Compare models right away and see which performs best/worst\n",
    "from sklearn.ensemble import AdaBoostClassifier, GradientBoostingClassifier, RandomForestClassifier, ExtraTreesClassifier\n",
    "from sklearn.model_selection import KFold, cross_val_score\n",
    "from sklearn.linear_model import LogisticRegression, SGDClassifier\n",
    "\n",
    "models = []\n",
    "models.append(('AB', AdaBoostClassifier()))\n",
    "models.append(('GBM', GradientBoostingClassifier()))\n",
    "models.append(('RF', RandomForestClassifier()))\n",
    "models.append(('ET', ExtraTreesClassifier()))\n",
    "models.append(('LR', LogisticRegression()))\n",
    "models.append(('SGD', SGDClassifier(max_iter=1000, tol=1e-3)))\n",
    "\n",
    "results = []\n",
    "names = []\n",
    "for name, model, in models:\n",
    "    kfold = KFold(n_splits=5, random_state=0)\n",
    "    cv_result = cross_val_score(model, X_train, y_train, \n",
    "                                 cv=5, scoring='accuracy')\n",
    "\n",
    "    results.append(cv_result)\n",
    "    names.append(name)\n",
    "    msg = '%s: %f (%f)' % (name, cv_result.mean(), cv_result.std())\n",
    "    print msg"
   ]
  },
  {
   "cell_type": "markdown",
   "metadata": {},
   "source": [
    "### The first four models performed exceptionally well. SVC took very long to run and performed the worst. Let's see how the first four models perform on the test set"
   ]
  },
  {
   "cell_type": "code",
   "execution_count": 1654,
   "metadata": {},
   "outputs": [
    {
     "name": "stdout",
     "output_type": "stream",
     "text": [
      "ADA Accuracy Score:  0.8889308651303363\n",
      "GBM Accuracy Score:  0.9013978088401965\n",
      "RF Accuracy Score:  0.8928976199471099\n",
      "ETC Accuracy Score:  0.8855307895731016\n"
     ]
    }
   ],
   "source": [
    "ada = AdaBoostClassifier().fit(X_train, y_train)\n",
    "ada_pred = ada.predict(X_test)\n",
    "print 'ADA Accuracy Score: ', accuracy_score(ada_pred, y_test)\n",
    "\n",
    "gbm = GradientBoostingClassifier().fit(X_train, y_train)\n",
    "gbm_pred = gbm.predict(X_test)\n",
    "print 'GBM Accuracy Score: ', accuracy_score(gbm_pred, y_test)\n",
    "\n",
    "rf = RandomForestClassifier().fit(X_train, y_train)\n",
    "rf_pred = rf.predict(X_test)\n",
    "print 'RF Accuracy Score: ', accuracy_score(rf_pred, y_test)\n",
    "\n",
    "etc = ExtraTreesClassifier().fit(X_train, y_train)\n",
    "etc_pred = etc.predict(X_test)\n",
    "print 'ETC Accuracy Score: ', accuracy_score(etc_pred, y_test)\n"
   ]
  },
  {
   "cell_type": "code",
   "execution_count": 1655,
   "metadata": {},
   "outputs": [
    {
     "data": {
      "text/html": [
       "<div>\n",
       "<style scoped>\n",
       "    .dataframe tbody tr th:only-of-type {\n",
       "        vertical-align: middle;\n",
       "    }\n",
       "\n",
       "    .dataframe tbody tr th {\n",
       "        vertical-align: top;\n",
       "    }\n",
       "\n",
       "    .dataframe thead th {\n",
       "        text-align: right;\n",
       "    }\n",
       "</style>\n",
       "<table border=\"1\" class=\"dataframe\">\n",
       "  <thead>\n",
       "    <tr style=\"text-align: right;\">\n",
       "      <th></th>\n",
       "      <th>Predictions</th>\n",
       "      <th>bound_at</th>\n",
       "    </tr>\n",
       "  </thead>\n",
       "  <tbody>\n",
       "    <tr>\n",
       "      <th>6924</th>\n",
       "      <td>0</td>\n",
       "      <td>0</td>\n",
       "    </tr>\n",
       "    <tr>\n",
       "      <th>11362</th>\n",
       "      <td>0</td>\n",
       "      <td>1</td>\n",
       "    </tr>\n",
       "    <tr>\n",
       "      <th>2227</th>\n",
       "      <td>0</td>\n",
       "      <td>0</td>\n",
       "    </tr>\n",
       "    <tr>\n",
       "      <th>12478</th>\n",
       "      <td>0</td>\n",
       "      <td>0</td>\n",
       "    </tr>\n",
       "    <tr>\n",
       "      <th>6958</th>\n",
       "      <td>0</td>\n",
       "      <td>0</td>\n",
       "    </tr>\n",
       "  </tbody>\n",
       "</table>\n",
       "</div>"
      ],
      "text/plain": [
       "       Predictions  bound_at\n",
       "6924             0         0\n",
       "11362            0         1\n",
       "2227             0         0\n",
       "12478            0         0\n",
       "6958             0         0"
      ]
     },
     "execution_count": 1655,
     "metadata": {},
     "output_type": "execute_result"
    }
   ],
   "source": [
    "gbm_predictions = pd.concat([pd.Series(gbm_pred, index=y_test.index, name='Predictions'), y_test], axis=1)\n",
    "\n",
    "#gbm_predictions.loc[ada_predictions['Predictions'] == 1]\n",
    "gbm_predictions.head()"
   ]
  },
  {
   "cell_type": "code",
   "execution_count": 1656,
   "metadata": {},
   "outputs": [
    {
     "data": {
      "text/plain": [
       "(0, 0)"
      ]
     },
     "execution_count": 1656,
     "metadata": {},
     "output_type": "execute_result"
    }
   ],
   "source": [
    "pd.Series(gbm_pred).isnull().sum(), pd.Series(y_test).isnull().sum()"
   ]
  },
  {
   "cell_type": "code",
   "execution_count": 1657,
   "metadata": {},
   "outputs": [
    {
     "name": "stdout",
     "output_type": "stream",
     "text": [
      "             precision    recall  f1-score   support\n",
      "\n",
      "          0       0.98      0.90      0.94      5043\n",
      "          1       0.25      0.66      0.36       251\n",
      "\n",
      "avg / total       0.95      0.89      0.91      5294\n",
      "\n",
      "ROC AUC Score:  0.7789132978298978\n"
     ]
    }
   ],
   "source": [
    "from sklearn.metrics import roc_auc_score\n",
    "\n",
    "print classification_report(ada_pred, y_test)\n",
    "print 'ROC AUC Score: ', roc_auc_score(ada_pred, y_test)"
   ]
  },
  {
   "cell_type": "code",
   "execution_count": 1658,
   "metadata": {},
   "outputs": [
    {
     "name": "stdout",
     "output_type": "stream",
     "text": [
      "             precision    recall  f1-score   support\n",
      "\n",
      "          0       0.99      0.91      0.95      5051\n",
      "          1       0.29      0.80      0.43       243\n",
      "\n",
      "avg / total       0.96      0.90      0.92      5294\n",
      "\n",
      "ROC AUC Score:  0.852354543328828\n"
     ]
    }
   ],
   "source": [
    "print classification_report(gbm_pred, y_test)\n",
    "print 'ROC AUC Score: ', roc_auc_score(gbm_pred, y_test)"
   ]
  },
  {
   "cell_type": "code",
   "execution_count": 1659,
   "metadata": {},
   "outputs": [
    {
     "name": "stdout",
     "output_type": "stream",
     "text": [
      "             precision    recall  f1-score   support\n",
      "\n",
      "          0       0.98      0.91      0.94      4976\n",
      "          1       0.31      0.66      0.42       318\n",
      "\n",
      "avg / total       0.94      0.89      0.91      5294\n",
      "\n",
      "ROC AUC Score:  0.7825954518797145\n"
     ]
    }
   ],
   "source": [
    "print classification_report(rf_pred, y_test)\n",
    "print 'ROC AUC Score: ', roc_auc_score(rf_pred, y_test)"
   ]
  },
  {
   "cell_type": "code",
   "execution_count": 1660,
   "metadata": {},
   "outputs": [
    {
     "name": "stdout",
     "output_type": "stream",
     "text": [
      "             precision    recall  f1-score   support\n",
      "\n",
      "          0       0.97      0.90      0.94      4973\n",
      "          1       0.29      0.60      0.39       321\n",
      "\n",
      "avg / total       0.93      0.89      0.90      5294\n",
      "\n",
      "ROC AUC Score:  0.7496493526100131\n"
     ]
    }
   ],
   "source": [
    "print classification_report(etc_pred, y_test)\n",
    "print 'ROC AUC Score: ', roc_auc_score(etc_pred, y_test)"
   ]
  },
  {
   "cell_type": "code",
   "execution_count": 1661,
   "metadata": {},
   "outputs": [
    {
     "data": {
      "text/plain": [
       "[(u'renovation_year_water_heater', 0.16279447551884607),\n",
       " ('updated_at_insureds', 0.05871844638955293),\n",
       " ('replacement_cost', 0.05076085837798065),\n",
       " (u'construction_year', 0.04695631609933483),\n",
       " ('updated_at_households', 0.04404317306339576),\n",
       " (u'burglar_alarm', 0.04341873741278385),\n",
       " ('area_code', 0.040358977224330454),\n",
       " (u'secured_community', 0.0399688843433031),\n",
       " ('updated_at_properties', 0.038372240716306384),\n",
       " (u'fire_alarm_monitoring', 0.03835307698464894),\n",
       " (u'renovation_year_plumbing', 0.03789681577101111),\n",
       " (u'sale_price', 0.037806615776932874),\n",
       " ('created_at_properties', 0.0295854146550812),\n",
       " (u'renovation_year_electrical', 0.028577604065942577),\n",
       " ('year_built', 0.02774961200687531),\n",
       " ('status', 0.02403876494133533),\n",
       " (u'underwriting_confirmed', 0.02327743157323522),\n",
       " (u'dob', 0.02235854596335778),\n",
       " (u'bathrooms', 0.02180848897124339),\n",
       " (u'protection_class', 0.019221301643269895),\n",
       " (u'garage_cars', 0.01635939685372665),\n",
       " ('created_at_insureds', 0.013793957132042923),\n",
       " (u'fire_alarm_sprinkler', 0.013523102824489635),\n",
       " (u'roof_type', 0.010767614604508445),\n",
       " ('usage', 0.010461322367985073),\n",
       " (u'renovation_year_heating', 0.009696417701798963),\n",
       " (u'construction_type', 0.009612584595702772),\n",
       " (u'water_detection', 0.00961242661497152),\n",
       " (u'pool', 0.007965999103744672),\n",
       " (u'one_and_a_half_bathrooms', 0.007403871202301331),\n",
       " (u'roof_shape_code', 0.00704045067173513),\n",
       " ('created_at_households', 0.005564429586628655),\n",
       " (u'builder', 0.005489514851158437),\n",
       " (u'wind_loss_count', 0.004849830116584936),\n",
       " (u'detached_structures_value', 0.0037784428578627456),\n",
       " (u'pool_value', 0.0036949999039473953),\n",
       " (u'roof_age', 0.00361466417285003),\n",
       " ('age', 0.0029943682447812103),\n",
       " (u'married', 0.0028441910164035368),\n",
       " (u'foundation', 0.0028251234853467603),\n",
       " (u'remember_created_at', 0.0024976172912699653),\n",
       " (u'other_loss_count', 0.0017667600477791756),\n",
       " (u'roof_cover_code', 0.0017072073751658824),\n",
       " (u'exterior_wall_construction_code', 0.0013917940511513317),\n",
       " (u'units_in_building', 0.0013342247518908993),\n",
       " (u'full_bathrooms', 0.0012417491613173216),\n",
       " (u'foundation_type_code', 0.0011702932166935704),\n",
       " (u'foundation_percentage', 0.0005506032019903006),\n",
       " (u'water_loss_count', 0.00038126149540302105),\n",
       " (u'email', 0.0),\n",
       " (u'co_applicant', 0.0),\n",
       " (u'liability_claim_count', 0.0),\n",
       " (u'non_liability_non_cat_claim_count', 0.0),\n",
       " (u'fire_loss_count', 0.0),\n",
       " (u'theft_loss_count', 0.0),\n",
       " (u'property_type', 0.0),\n",
       " (u'roof_shape', 0.0),\n",
       " (u'children_present', 0.0),\n",
       " (u'success', 0.0),\n",
       " ('stories', 0.0),\n",
       " ('exterior_wall_finish_code', 0.0),\n",
       " (u'garage_style', 0.0),\n",
       " (u'half_bathrooms', 0.0)]"
      ]
     },
     "execution_count": 1661,
     "metadata": {},
     "output_type": "execute_result"
    }
   ],
   "source": [
    "importances = zip(X.columns, gbm.feature_importances_)\n",
    "importances.sort(key=lambda x: x[1], reverse=True)\n",
    "importances"
   ]
  },
  {
   "cell_type": "markdown",
   "metadata": {},
   "source": [
    "### Fit SVM and KNN Classifier on the normalized training set (SVM and KNN perform better after normalization)"
   ]
  },
  {
   "cell_type": "code",
   "execution_count": 1662,
   "metadata": {},
   "outputs": [
    {
     "name": "stdout",
     "output_type": "stream",
     "text": [
      "KNN Accuracy:  0.8740083112958066\n",
      "SVM Accuracy:  0.8740083112958066\n"
     ]
    }
   ],
   "source": [
    "from sklearn.svm import SVC\n",
    "from sklearn.neighbors import KNeighborsClassifier\n",
    "\n",
    "knn = KNeighborsClassifier().fit(X_train_scaled, y_train)\n",
    "knn_pred = knn.predict(X_test)\n",
    "print 'KNN Accuracy: ', accuracy_score(knn_pred, y_test)\n",
    "\n",
    "svm = SVC().fit(X_train_scaled, y_train)\n",
    "svm_pred = svm.predict(X_test)\n",
    "print 'SVM Accuracy: ', accuracy_score(svm_pred, y_test)\n",
    "\n",
    "# It still doesn't perform as well out of the gate as the tree classifiers, so we'll stick with tuning the tree classifiers"
   ]
  },
  {
   "cell_type": "markdown",
   "metadata": {},
   "source": [
    "### Use RandomizedSearchCV to run cross validation and tune the hyperparameters of the GBM model"
   ]
  },
  {
   "cell_type": "code",
   "execution_count": 1663,
   "metadata": {},
   "outputs": [
    {
     "data": {
      "text/plain": [
       "RandomizedSearchCV(cv=5, error_score='raise',\n",
       "          estimator=GradientBoostingClassifier(criterion='friedman_mse', init=None,\n",
       "              learning_rate=0.1, loss='deviance', max_depth=3,\n",
       "              max_features=None, max_leaf_nodes=None,\n",
       "              min_impurity_decrease=0.0, min_impurity_split=None,\n",
       "              min_samples_leaf=1, min_samples_split=2,\n",
       "              min_weight_fraction_leaf=0.0, n_estimators=100,\n",
       "              presort='auto', random_state=None, subsample=1.0, verbose=0,\n",
       "              warm_start=False),\n",
       "          fit_params=None, iid=True, n_iter=20, n_jobs=-1,\n",
       "          param_distributions={'max_features': [10, 20, 30, 40, 50, 60], 'learning_rate': array([0.001, 0.051, 0.101, 0.151, 0.201, 0.251, 0.301, 0.351, 0.401,\n",
       "       0.451, 0.501, 0.551, 0.601, 0.651, 0.701, 0.751, 0.801, 0.851,\n",
       "       0.901, 0.951]), 'min_samples_leaf': [30, 40, 50, 60], 'n_estimators': [20...t': [200, 400, 600, 800, 1000, 1200, 1400, 1600, 1800, 2000], 'max_depth': [3, 5, 7, 9, 11, 13, 15]},\n",
       "          pre_dispatch='2*n_jobs', random_state=9, refit=True,\n",
       "          return_train_score='warn', scoring='recall', verbose=0)"
      ]
     },
     "execution_count": 1663,
     "metadata": {},
     "output_type": "execute_result"
    }
   ],
   "source": [
    "from sklearn.model_selection import RandomizedSearchCV\n",
    "\n",
    "param_grid = {'n_estimators' : range(20,101,10),\n",
    "              'max_depth' : range(3,16,2), \n",
    "              'min_samples_split' : range(200,2100,200),\n",
    "              'min_samples_leaf' : range(30,70,10),\n",
    "              'max_features' : range(10, len(X.columns), 10),\n",
    "              'subsample': np.arange(.6,.9,.05),\n",
    "              'learning_rate' : np.arange(.001, 1, .05)}\n",
    "\n",
    "\n",
    "\n",
    "rs_gbm = RandomizedSearchCV(gbm, param_distributions=param_grid, n_iter=20, \n",
    "                            scoring='recall', refit=True, cv=5, n_jobs=-1, random_state=9)\n",
    "rs_gbm.fit(X_train, y_train)\n",
    "rs_gbm"
   ]
  },
  {
   "cell_type": "code",
   "execution_count": 1664,
   "metadata": {},
   "outputs": [
    {
     "data": {
      "text/plain": [
       "('Best Params: ',\n",
       " {'learning_rate': 0.801,\n",
       "  'max_depth': 15,\n",
       "  'max_features': 30,\n",
       "  'min_samples_leaf': 30,\n",
       "  'min_samples_split': 200,\n",
       "  'n_estimators': 20,\n",
       "  'subsample': 0.7500000000000001},\n",
       " 'Best Score: ',\n",
       " 0.39511919106935384)"
      ]
     },
     "execution_count": 1664,
     "metadata": {},
     "output_type": "execute_result"
    }
   ],
   "source": [
    "'Best Params: ', rs_gbm.best_params_, 'Best Score: ', rs_gbm.best_score_"
   ]
  },
  {
   "cell_type": "code",
   "execution_count": 1665,
   "metadata": {},
   "outputs": [
    {
     "name": "stdout",
     "output_type": "stream",
     "text": [
      "             precision    recall  f1-score   support\n",
      "\n",
      "          0       0.94      0.92      0.93      4754\n",
      "          1       0.40      0.50      0.44       540\n",
      "\n",
      "avg / total       0.89      0.87      0.88      5294\n",
      "\n",
      "Accuracy:  0.8732527389497544\n",
      "ROC AUC:  0.7061834868103274\n"
     ]
    }
   ],
   "source": [
    "gbm_best = gbm.set_params(**rs_gbm.best_params_).fit(X_train, y_train)\n",
    "gbm_best_pred = gbm_best.predict(X_test)\n",
    "\n",
    "print classification_report(gbm_best_pred, y_test)\n",
    "print 'Accuracy: ', accuracy_score(gbm_best_pred, y_test)\n",
    "print 'ROC AUC: ', roc_auc_score(gbm_best_pred, y_test)"
   ]
  },
  {
   "cell_type": "code",
   "execution_count": null,
   "metadata": {
    "collapsed": true
   },
   "outputs": [],
   "source": []
  },
  {
   "cell_type": "code",
   "execution_count": 1666,
   "metadata": {},
   "outputs": [
    {
     "data": {
      "image/png": "[encoded data removed]",
      "text/plain": [
       "<matplotlib.figure.Figure at 0x1d8e5cfe90>"
      ]
     },
     "metadata": {},
     "output_type": "display_data"
    }
   ],
   "source": [
    "import matplotlib.pyplot as plt\n",
    "from sklearn.metrics import precision_recall_curve\n",
    "\n",
    "y_score_gbm = gbm_best.decision_function(X_test)\n",
    "\n",
    "precision, recall, threshold = precision_recall_curve(y_test, y_score_gbm)\n",
    "\n",
    "fig = plt.gcf()\n",
    "plt.plot(recall, precision)\n",
    "plt.xlabel('recall')\n",
    "plt.ylabel('precision')\n",
    "fig.set_size_inches((15, 5))\n",
    "plt.show()"
   ]
  },
  {
   "cell_type": "markdown",
   "metadata": {},
   "source": [
    "### Implement Feature Selection using SelectFromModel"
   ]
  },
  {
   "cell_type": "code",
   "execution_count": 1667,
   "metadata": {},
   "outputs": [
    {
     "data": {
      "text/plain": [
       "(21173, 24)"
      ]
     },
     "execution_count": 1667,
     "metadata": {},
     "output_type": "execute_result"
    }
   ],
   "source": [
    "from sklearn.feature_selection import SelectFromModel\n",
    "\n",
    "sfm = SelectFromModel(gbm_best).fit(X, y)\n",
    "\n",
    "sfm.transform(X).shape"
   ]
  },
  {
   "cell_type": "markdown",
   "metadata": {},
   "source": [
    "##### We see above that we narrowed the features from 67 features to 22 features. Lets apply the model to try and predict using only 17 features."
   ]
  },
  {
   "cell_type": "code",
   "execution_count": 1668,
   "metadata": {},
   "outputs": [
    {
     "name": "stdout",
     "output_type": "stream",
     "text": [
      "0                 created_at_insureds\n",
      "1                 updated_at_insureds\n",
      "2               liability_claim_count\n",
      "3               created_at_households\n",
      "4               updated_at_households\n",
      "5                 remember_created_at\n",
      "6                       property_type\n",
      "7                          year_built\n",
      "8                           bathrooms\n",
      "9               created_at_properties\n",
      "10              updated_at_properties\n",
      "11                         foundation\n",
      "12                         roof_shape\n",
      "13                          roof_type\n",
      "14                  construction_type\n",
      "15                           roof_age\n",
      "16                             status\n",
      "17                      burglar_alarm\n",
      "18               fire_alarm_sprinkler\n",
      "19              fire_alarm_monitoring\n",
      "20                  secured_community\n",
      "21                    water_detection\n",
      "22                              usage\n",
      "23         renovation_year_electrical\n",
      "24           renovation_year_plumbing\n",
      "25       renovation_year_water_heater\n",
      "26            renovation_year_heating\n",
      "27             underwriting_confirmed\n",
      "28                            success\n",
      "29                  construction_year\n",
      "30                    roof_cover_code\n",
      "31                            stories\n",
      "32                    roof_shape_code\n",
      "33    exterior_wall_construction_code\n",
      "34                        garage_cars\n",
      "35                     full_bathrooms\n",
      "dtype: object\n"
     ]
    }
   ],
   "source": [
    "from sklearn.feature_selection import SelectKBest, f_regression\n",
    "from sklearn.pipeline import Pipeline\n",
    "\n",
    "anova_filter = SelectKBest(f_regression, k=36).fit(X_train, y_train)\n",
    "anova_indices = anova_filter.get_support(indices=True)\n",
    "anova_features = [X.columns[i] for i in anova_indices]\n",
    "\n",
    "print pd.Series(anova_features)\n",
    "\n",
    "#steps = [('anova', anova_filter), \n",
    "#         ('gbm', GradientBoostingClassifier(max_features=25))]\n",
    "\n",
    "#gbm_pipe = Pipeline(steps).fit(X_train, y_train)\n",
    "#gbm_pipe\n",
    "\n",
    "\n",
    "\n",
    "#gbm_pipe.set_params(anova__k=25, gbm__max_features=25).fit(X_train, y_train)\n",
    "#\n",
    "\n",
    "\n",
    "#y_pred_pipe = pipe.predict(X_test)\n",
    "#classification_report(y_test, y_pred_pipe)\n",
    "\n"
   ]
  },
  {
   "cell_type": "code",
   "execution_count": 1669,
   "metadata": {},
   "outputs": [
    {
     "data": {
      "text/plain": [
       "36"
      ]
     },
     "execution_count": 1669,
     "metadata": {},
     "output_type": "execute_result"
    }
   ],
   "source": [
    "X_skb = X[anova_features]\n",
    "len(X_skb.columns)"
   ]
  },
  {
   "cell_type": "markdown",
   "metadata": {},
   "source": [
    "### Implement RandomizedSearchCV on df_skb"
   ]
  },
  {
   "cell_type": "code",
   "execution_count": 1670,
   "metadata": {},
   "outputs": [
    {
     "data": {
      "text/plain": [
       "RandomizedSearchCV(cv=5, error_score='raise',\n",
       "          estimator=GradientBoostingClassifier(criterion='friedman_mse', init=None,\n",
       "              learning_rate=0.1, loss='deviance', max_depth=3,\n",
       "              max_features=None, max_leaf_nodes=None,\n",
       "              min_impurity_decrease=0.0, min_impurity_split=None,\n",
       "              min_samples_leaf=1, min_samples_split=2,\n",
       "              min_weight_fraction_leaf=0.0, n_estimators=100,\n",
       "              presort='auto', random_state=None, subsample=1.0, verbose=0,\n",
       "              warm_start=False),\n",
       "          fit_params=None, iid=True, n_iter=20, n_jobs=-1,\n",
       "          param_distributions={'max_features': [10, 20, 30, 40, 50, 60], 'learning_rate': array([0.001, 0.051, 0.101, 0.151, 0.201, 0.251, 0.301, 0.351, 0.401,\n",
       "       0.451, 0.501, 0.551, 0.601, 0.651, 0.701, 0.751, 0.801, 0.851,\n",
       "       0.901, 0.951]), 'min_samples_leaf': [30, 40, 50, 60], 'n_estimators': [20...t': [200, 400, 600, 800, 1000, 1200, 1400, 1600, 1800, 2000], 'max_depth': [3, 5, 7, 9, 11, 13, 15]},\n",
       "          pre_dispatch='2*n_jobs', random_state=9, refit=True,\n",
       "          return_train_score='warn', scoring='accuracy', verbose=0)"
      ]
     },
     "execution_count": 1670,
     "metadata": {},
     "output_type": "execute_result"
    }
   ],
   "source": [
    "param_grid = {'n_estimators' : range(20,101,10),\n",
    "              'max_depth' : range(3,16,2), \n",
    "              'min_samples_split' : range(200,2100,200),\n",
    "              'min_samples_leaf' : range(30,70,10),\n",
    "              'max_features' : range(10, len(X.columns), 10),\n",
    "              'subsample': np.arange(.6,.9,.05),\n",
    "              'learning_rate' : np.arange(.001, 1, .05)}\n",
    "\n",
    "\n",
    "\n",
    "rsskb_gbm = RandomizedSearchCV(GradientBoostingClassifier(), param_distributions=param_grid, \n",
    "                               n_iter=20, scoring='accuracy', refit=True, cv=5, \n",
    "                               n_jobs=-1, random_state=9)\n",
    "\n",
    "rsskb_gbm.fit(X_train, y_train)\n",
    "rsskb_gbm"
   ]
  },
  {
   "cell_type": "code",
   "execution_count": 1671,
   "metadata": {},
   "outputs": [
    {
     "data": {
      "text/plain": [
       "('Best Params: ',\n",
       " {'learning_rate': 0.101,\n",
       "  'max_depth': 5,\n",
       "  'max_features': 30,\n",
       "  'min_samples_leaf': 50,\n",
       "  'min_samples_split': 400,\n",
       "  'n_estimators': 80,\n",
       "  'subsample': 0.8500000000000002},\n",
       " 'Best Score: ',\n",
       " 0.8941998866427356)"
      ]
     },
     "execution_count": 1671,
     "metadata": {},
     "output_type": "execute_result"
    }
   ],
   "source": [
    "'Best Params: ', rsskb_gbm.best_params_, 'Best Score: ', rsskb_gbm.best_score_"
   ]
  },
  {
   "cell_type": "code",
   "execution_count": 1672,
   "metadata": {
    "collapsed": true
   },
   "outputs": [],
   "source": [
    "rsskb_gbm_best = gbm.set_params(**rsskb_gbm.best_params_).fit(X_train, y_train)\n",
    "\n",
    "y_pred_rsskb = rsskb_gbm_best.predict(X_test)"
   ]
  },
  {
   "cell_type": "code",
   "execution_count": 1673,
   "metadata": {},
   "outputs": [
    {
     "name": "stdout",
     "output_type": "stream",
     "text": [
      "             precision    recall  f1-score   support\n",
      "\n",
      "          0       0.99      0.91      0.95      5027\n",
      "          1       0.31      0.78      0.45       267\n",
      "\n",
      "avg / total       0.95      0.90      0.92      5294\n",
      "\n",
      "Accuracy:  0.9025311673592746\n",
      "ROC AUC:  0.8458317594353785\n"
     ]
    }
   ],
   "source": [
    "print classification_report(y_pred_rsskb, y_test)\n",
    "print 'Accuracy: ', accuracy_score(y_pred_rsskb, y_test)\n",
    "print 'ROC AUC: ', roc_auc_score(y_pred_rsskb, y_test)"
   ]
  },
  {
   "cell_type": "markdown",
   "metadata": {},
   "source": [
    "### Comparing the above model to the original untuned model, the recall dropped from 70% to 60%, but we can see the the precision went up from 34% to 47%"
   ]
  },
  {
   "cell_type": "code",
   "execution_count": 1706,
   "metadata": {},
   "outputs": [
    {
     "data": {
      "text/plain": [
       "[(u'renovation_year_water_heater', 0.16472336911488772),\n",
       " ('replacement_cost', 0.05098309363830737),\n",
       " (u'renovation_year_electrical', 0.05042217284176165),\n",
       " (u'dob', 0.050177169454434525),\n",
       " ('updated_at_properties', 0.048108319630999874),\n",
       " (u'construction_year', 0.04670420436455337),\n",
       " ('area_code', 0.045795867042124405),\n",
       " ('updated_at_insureds', 0.0419796878025779),\n",
       " (u'fire_alarm_monitoring', 0.038321963068366216),\n",
       " (u'secured_community', 0.037196137573771354),\n",
       " (u'burglar_alarm', 0.031956116133369974),\n",
       " (u'sale_price', 0.03143890511813679),\n",
       " ('created_at_households', 0.028838462471903088),\n",
       " ('updated_at_households', 0.02819490976528597),\n",
       " (u'renovation_year_heating', 0.024697186391054508),\n",
       " (u'underwriting_confirmed', 0.02397559894603485),\n",
       " (u'renovation_year_plumbing', 0.021260419154488876),\n",
       " ('created_at_insureds', 0.019961044135820616),\n",
       " (u'garage_cars', 0.01889382282174657),\n",
       " ('created_at_properties', 0.018386624966736303),\n",
       " (u'bathrooms', 0.016655236692071727),\n",
       " ('year_built', 0.016027015536280657),\n",
       " (u'water_detection', 0.014099719882878763),\n",
       " ('status', 0.01372817428446474),\n",
       " (u'remember_created_at', 0.012850813606899403),\n",
       " (u'roof_type', 0.012692138726653437),\n",
       " ('usage', 0.012424851002253311),\n",
       " (u'protection_class', 0.009937679166110148),\n",
       " (u'roof_cover_code', 0.008818399886023376),\n",
       " (u'fire_alarm_sprinkler', 0.008370259334052346),\n",
       " ('exterior_wall_finish_code', 0.008167997345795297),\n",
       " (u'roof_age', 0.008136738485387802),\n",
       " (u'full_bathrooms', 0.007620071565426313),\n",
       " (u'construction_type', 0.007306762939226519),\n",
       " (u'foundation', 0.0028907396338899985),\n",
       " (u'roof_shape_code', 0.0020459538412115944),\n",
       " ('age', 0.0019728789127763818),\n",
       " (u'foundation_type_code', 0.0017858526487656127),\n",
       " (u'roof_shape', 0.0016800879692822298),\n",
       " (u'garage_style', 0.0016793175972363375),\n",
       " (u'water_loss_count', 0.0013037872452190378),\n",
       " (u'one_and_a_half_bathrooms', 0.0011938043228547882),\n",
       " (u'exterior_wall_construction_code', 0.0011227360108905992),\n",
       " ('stories', 0.0010376024722882477),\n",
       " (u'pool_value', 0.001018264242473364),\n",
       " (u'pool', 0.0010160602005173905),\n",
       " (u'other_loss_count', 0.0009780020013877657),\n",
       " (u'non_liability_non_cat_claim_count', 0.0007267082687260242),\n",
       " (u'detached_structures_value', 0.0006548825569740906),\n",
       " (u'property_type', 4.23891856207223e-05),\n",
       " (u'email', 0.0),\n",
       " (u'co_applicant', 0.0),\n",
       " (u'liability_claim_count', 0.0),\n",
       " (u'fire_loss_count', 0.0),\n",
       " (u'theft_loss_count', 0.0),\n",
       " (u'wind_loss_count', 0.0),\n",
       " (u'married', 0.0),\n",
       " (u'builder', 0.0),\n",
       " (u'children_present', 0.0),\n",
       " (u'success', 0.0),\n",
       " (u'units_in_building', 0.0),\n",
       " (u'foundation_percentage', 0.0),\n",
       " (u'half_bathrooms', 0.0)]"
      ]
     },
     "execution_count": 1706,
     "metadata": {},
     "output_type": "execute_result"
    }
   ],
   "source": [
    "importances = zip(X.columns, rsskb_gbm_best.feature_importances_)\n",
    "importances.sort(key=lambda x: x[1], reverse=True)\n",
    "importances"
   ]
  },
  {
   "cell_type": "code",
   "execution_count": 1675,
   "metadata": {},
   "outputs": [
    {
     "data": {
      "text/html": [
       "<div>\n",
       "<style scoped>\n",
       "    .dataframe tbody tr th:only-of-type {\n",
       "        vertical-align: middle;\n",
       "    }\n",
       "\n",
       "    .dataframe tbody tr th {\n",
       "        vertical-align: top;\n",
       "    }\n",
       "\n",
       "    .dataframe thead th {\n",
       "        text-align: right;\n",
       "    }\n",
       "</style>\n",
       "<table border=\"1\" class=\"dataframe\">\n",
       "  <thead>\n",
       "    <tr style=\"text-align: right;\">\n",
       "      <th></th>\n",
       "      <th>Predictions</th>\n",
       "      <th>bound_at</th>\n",
       "    </tr>\n",
       "  </thead>\n",
       "  <tbody>\n",
       "    <tr>\n",
       "      <th>6924</th>\n",
       "      <td>0</td>\n",
       "      <td>0</td>\n",
       "    </tr>\n",
       "    <tr>\n",
       "      <th>11362</th>\n",
       "      <td>0</td>\n",
       "      <td>1</td>\n",
       "    </tr>\n",
       "    <tr>\n",
       "      <th>2227</th>\n",
       "      <td>0</td>\n",
       "      <td>0</td>\n",
       "    </tr>\n",
       "    <tr>\n",
       "      <th>12478</th>\n",
       "      <td>0</td>\n",
       "      <td>0</td>\n",
       "    </tr>\n",
       "    <tr>\n",
       "      <th>6958</th>\n",
       "      <td>0</td>\n",
       "      <td>0</td>\n",
       "    </tr>\n",
       "    <tr>\n",
       "      <th>7459</th>\n",
       "      <td>0</td>\n",
       "      <td>0</td>\n",
       "    </tr>\n",
       "    <tr>\n",
       "      <th>13699</th>\n",
       "      <td>1</td>\n",
       "      <td>1</td>\n",
       "    </tr>\n",
       "    <tr>\n",
       "      <th>11259</th>\n",
       "      <td>0</td>\n",
       "      <td>1</td>\n",
       "    </tr>\n",
       "    <tr>\n",
       "      <th>14472</th>\n",
       "      <td>0</td>\n",
       "      <td>1</td>\n",
       "    </tr>\n",
       "    <tr>\n",
       "      <th>888</th>\n",
       "      <td>0</td>\n",
       "      <td>0</td>\n",
       "    </tr>\n",
       "    <tr>\n",
       "      <th>11943</th>\n",
       "      <td>0</td>\n",
       "      <td>0</td>\n",
       "    </tr>\n",
       "    <tr>\n",
       "      <th>10556</th>\n",
       "      <td>0</td>\n",
       "      <td>0</td>\n",
       "    </tr>\n",
       "    <tr>\n",
       "      <th>15744</th>\n",
       "      <td>0</td>\n",
       "      <td>0</td>\n",
       "    </tr>\n",
       "    <tr>\n",
       "      <th>575</th>\n",
       "      <td>0</td>\n",
       "      <td>0</td>\n",
       "    </tr>\n",
       "    <tr>\n",
       "      <th>12200</th>\n",
       "      <td>0</td>\n",
       "      <td>0</td>\n",
       "    </tr>\n",
       "    <tr>\n",
       "      <th>4530</th>\n",
       "      <td>0</td>\n",
       "      <td>0</td>\n",
       "    </tr>\n",
       "    <tr>\n",
       "      <th>4072</th>\n",
       "      <td>0</td>\n",
       "      <td>0</td>\n",
       "    </tr>\n",
       "    <tr>\n",
       "      <th>7245</th>\n",
       "      <td>0</td>\n",
       "      <td>0</td>\n",
       "    </tr>\n",
       "    <tr>\n",
       "      <th>8701</th>\n",
       "      <td>0</td>\n",
       "      <td>0</td>\n",
       "    </tr>\n",
       "    <tr>\n",
       "      <th>10704</th>\n",
       "      <td>0</td>\n",
       "      <td>0</td>\n",
       "    </tr>\n",
       "    <tr>\n",
       "      <th>3244</th>\n",
       "      <td>0</td>\n",
       "      <td>0</td>\n",
       "    </tr>\n",
       "    <tr>\n",
       "      <th>13511</th>\n",
       "      <td>0</td>\n",
       "      <td>0</td>\n",
       "    </tr>\n",
       "    <tr>\n",
       "      <th>10607</th>\n",
       "      <td>0</td>\n",
       "      <td>0</td>\n",
       "    </tr>\n",
       "    <tr>\n",
       "      <th>12812</th>\n",
       "      <td>0</td>\n",
       "      <td>0</td>\n",
       "    </tr>\n",
       "    <tr>\n",
       "      <th>3497</th>\n",
       "      <td>0</td>\n",
       "      <td>0</td>\n",
       "    </tr>\n",
       "    <tr>\n",
       "      <th>7701</th>\n",
       "      <td>0</td>\n",
       "      <td>0</td>\n",
       "    </tr>\n",
       "    <tr>\n",
       "      <th>16053</th>\n",
       "      <td>0</td>\n",
       "      <td>0</td>\n",
       "    </tr>\n",
       "    <tr>\n",
       "      <th>10171</th>\n",
       "      <td>0</td>\n",
       "      <td>0</td>\n",
       "    </tr>\n",
       "    <tr>\n",
       "      <th>21322</th>\n",
       "      <td>0</td>\n",
       "      <td>0</td>\n",
       "    </tr>\n",
       "    <tr>\n",
       "      <th>6701</th>\n",
       "      <td>0</td>\n",
       "      <td>0</td>\n",
       "    </tr>\n",
       "    <tr>\n",
       "      <th>...</th>\n",
       "      <td>...</td>\n",
       "      <td>...</td>\n",
       "    </tr>\n",
       "    <tr>\n",
       "      <th>19990</th>\n",
       "      <td>1</td>\n",
       "      <td>1</td>\n",
       "    </tr>\n",
       "    <tr>\n",
       "      <th>21049</th>\n",
       "      <td>0</td>\n",
       "      <td>0</td>\n",
       "    </tr>\n",
       "    <tr>\n",
       "      <th>6569</th>\n",
       "      <td>0</td>\n",
       "      <td>0</td>\n",
       "    </tr>\n",
       "    <tr>\n",
       "      <th>10846</th>\n",
       "      <td>0</td>\n",
       "      <td>0</td>\n",
       "    </tr>\n",
       "    <tr>\n",
       "      <th>15937</th>\n",
       "      <td>0</td>\n",
       "      <td>0</td>\n",
       "    </tr>\n",
       "    <tr>\n",
       "      <th>11089</th>\n",
       "      <td>0</td>\n",
       "      <td>0</td>\n",
       "    </tr>\n",
       "    <tr>\n",
       "      <th>20309</th>\n",
       "      <td>0</td>\n",
       "      <td>0</td>\n",
       "    </tr>\n",
       "    <tr>\n",
       "      <th>20421</th>\n",
       "      <td>1</td>\n",
       "      <td>1</td>\n",
       "    </tr>\n",
       "    <tr>\n",
       "      <th>12692</th>\n",
       "      <td>0</td>\n",
       "      <td>0</td>\n",
       "    </tr>\n",
       "    <tr>\n",
       "      <th>16058</th>\n",
       "      <td>0</td>\n",
       "      <td>0</td>\n",
       "    </tr>\n",
       "    <tr>\n",
       "      <th>14785</th>\n",
       "      <td>1</td>\n",
       "      <td>0</td>\n",
       "    </tr>\n",
       "    <tr>\n",
       "      <th>5519</th>\n",
       "      <td>0</td>\n",
       "      <td>0</td>\n",
       "    </tr>\n",
       "    <tr>\n",
       "      <th>8773</th>\n",
       "      <td>0</td>\n",
       "      <td>0</td>\n",
       "    </tr>\n",
       "    <tr>\n",
       "      <th>13742</th>\n",
       "      <td>0</td>\n",
       "      <td>1</td>\n",
       "    </tr>\n",
       "    <tr>\n",
       "      <th>7572</th>\n",
       "      <td>0</td>\n",
       "      <td>0</td>\n",
       "    </tr>\n",
       "    <tr>\n",
       "      <th>4432</th>\n",
       "      <td>0</td>\n",
       "      <td>1</td>\n",
       "    </tr>\n",
       "    <tr>\n",
       "      <th>2555</th>\n",
       "      <td>0</td>\n",
       "      <td>0</td>\n",
       "    </tr>\n",
       "    <tr>\n",
       "      <th>4391</th>\n",
       "      <td>0</td>\n",
       "      <td>0</td>\n",
       "    </tr>\n",
       "    <tr>\n",
       "      <th>14986</th>\n",
       "      <td>0</td>\n",
       "      <td>0</td>\n",
       "    </tr>\n",
       "    <tr>\n",
       "      <th>19999</th>\n",
       "      <td>0</td>\n",
       "      <td>1</td>\n",
       "    </tr>\n",
       "    <tr>\n",
       "      <th>21546</th>\n",
       "      <td>1</td>\n",
       "      <td>0</td>\n",
       "    </tr>\n",
       "    <tr>\n",
       "      <th>3170</th>\n",
       "      <td>0</td>\n",
       "      <td>0</td>\n",
       "    </tr>\n",
       "    <tr>\n",
       "      <th>3652</th>\n",
       "      <td>0</td>\n",
       "      <td>0</td>\n",
       "    </tr>\n",
       "    <tr>\n",
       "      <th>17436</th>\n",
       "      <td>1</td>\n",
       "      <td>1</td>\n",
       "    </tr>\n",
       "    <tr>\n",
       "      <th>7817</th>\n",
       "      <td>0</td>\n",
       "      <td>0</td>\n",
       "    </tr>\n",
       "    <tr>\n",
       "      <th>12212</th>\n",
       "      <td>0</td>\n",
       "      <td>0</td>\n",
       "    </tr>\n",
       "    <tr>\n",
       "      <th>9886</th>\n",
       "      <td>0</td>\n",
       "      <td>0</td>\n",
       "    </tr>\n",
       "    <tr>\n",
       "      <th>10377</th>\n",
       "      <td>0</td>\n",
       "      <td>0</td>\n",
       "    </tr>\n",
       "    <tr>\n",
       "      <th>6948</th>\n",
       "      <td>0</td>\n",
       "      <td>1</td>\n",
       "    </tr>\n",
       "    <tr>\n",
       "      <th>2071</th>\n",
       "      <td>0</td>\n",
       "      <td>0</td>\n",
       "    </tr>\n",
       "  </tbody>\n",
       "</table>\n",
       "<p>5294 rows × 2 columns</p>\n",
       "</div>"
      ],
      "text/plain": [
       "       Predictions  bound_at\n",
       "6924             0         0\n",
       "11362            0         1\n",
       "2227             0         0\n",
       "12478            0         0\n",
       "6958             0         0\n",
       "7459             0         0\n",
       "13699            1         1\n",
       "11259            0         1\n",
       "14472            0         1\n",
       "888              0         0\n",
       "11943            0         0\n",
       "10556            0         0\n",
       "15744            0         0\n",
       "575              0         0\n",
       "12200            0         0\n",
       "4530             0         0\n",
       "4072             0         0\n",
       "7245             0         0\n",
       "8701             0         0\n",
       "10704            0         0\n",
       "3244             0         0\n",
       "13511            0         0\n",
       "10607            0         0\n",
       "12812            0         0\n",
       "3497             0         0\n",
       "7701             0         0\n",
       "16053            0         0\n",
       "10171            0         0\n",
       "21322            0         0\n",
       "6701             0         0\n",
       "...            ...       ...\n",
       "19990            1         1\n",
       "21049            0         0\n",
       "6569             0         0\n",
       "10846            0         0\n",
       "15937            0         0\n",
       "11089            0         0\n",
       "20309            0         0\n",
       "20421            1         1\n",
       "12692            0         0\n",
       "16058            0         0\n",
       "14785            1         0\n",
       "5519             0         0\n",
       "8773             0         0\n",
       "13742            0         1\n",
       "7572             0         0\n",
       "4432             0         1\n",
       "2555             0         0\n",
       "4391             0         0\n",
       "14986            0         0\n",
       "19999            0         1\n",
       "21546            1         0\n",
       "3170             0         0\n",
       "3652             0         0\n",
       "17436            1         1\n",
       "7817             0         0\n",
       "12212            0         0\n",
       "9886             0         0\n",
       "10377            0         0\n",
       "6948             0         1\n",
       "2071             0         0\n",
       "\n",
       "[5294 rows x 2 columns]"
      ]
     },
     "execution_count": 1675,
     "metadata": {},
     "output_type": "execute_result"
    }
   ],
   "source": [
    "pd.concat([pd.DataFrame(y_pred_rsskb, columns=['Predictions'], index=y_test.index), y_test], axis=1) # Test predictions"
   ]
  },
  {
   "cell_type": "code",
   "execution_count": 1676,
   "metadata": {},
   "outputs": [
    {
     "data": {
      "image/png": "[encoded data removed]",
      "text/plain": [
       "<matplotlib.figure.Figure at 0x1ce7670610>"
      ]
     },
     "metadata": {},
     "output_type": "display_data"
    }
   ],
   "source": [
    "import seaborn as sns\n",
    "\n",
    "df['bound_at'].value_counts()\n",
    "pd.Series(gbm_best_pred).value_counts()\n",
    "\n",
    "\n",
    "\n",
    "sns.barplot(x=['Actual 0', 'Pred 0', 'Actual 1', 'Pred 1'], \n",
    "            y=[y_test.value_counts()[0], pd.Series(y_pred_rsskb).value_counts()[0],\n",
    "               y_test.value_counts()[1], pd.Series(y_pred_rsskb).value_counts()[1]])\n",
    "sns.set(rc={'figure.figsize':(15.5, 10.27)})"
   ]
  },
  {
   "cell_type": "code",
   "execution_count": null,
   "metadata": {
    "collapsed": true
   },
   "outputs": [],
   "source": []
  },
  {
   "cell_type": "code",
   "execution_count": 1677,
   "metadata": {},
   "outputs": [
    {
     "data": {
      "image/png": "[encoded data removed]",
      "text/plain": [
       "<matplotlib.figure.Figure at 0x1ce76789d0>"
      ]
     },
     "metadata": {},
     "output_type": "display_data"
    }
   ],
   "source": [
    "from sklearn.metrics import roc_curve, auc\n",
    "\n",
    "y_score = rsskb_gbm_best.decision_function(X_test)\n",
    "\n",
    "\n",
    "\n",
    "fpr, tpr, threshold = roc_curve(y_test, y_score)\n",
    "roc_auc = auc(fpr, tpr)\n",
    "\n",
    "plt.figure()\n",
    "lw = 2\n",
    "plt.plot(fpr, tpr, color='darkorange',\n",
    "         lw=lw, label='ROC curve (area = %0.2f)' % roc_auc)\n",
    "plt.plot([0, 1], [0, 1], color='navy', lw=lw, linestyle='--')\n",
    "plt.xlim([0.0, 1.0])\n",
    "plt.ylim([0.0, 1.05])\n",
    "plt.xlabel('FPR')\n",
    "plt.ylabel('TPR')\n",
    "plt.title('ROC AUC Curve')\n",
    "plt.legend(loc=\"lower right\")\n",
    "plt.show()"
   ]
  },
  {
   "cell_type": "code",
   "execution_count": 1678,
   "metadata": {},
   "outputs": [
    {
     "name": "stdout",
     "output_type": "stream",
     "text": [
      "(20926, 63)\n"
     ]
    }
   ],
   "source": [
    "print X_normalized.shape"
   ]
  },
  {
   "cell_type": "code",
   "execution_count": null,
   "metadata": {
    "collapsed": true
   },
   "outputs": [],
   "source": []
  },
  {
   "cell_type": "code",
   "execution_count": null,
   "metadata": {
    "collapsed": true
   },
   "outputs": [],
   "source": []
  },
  {
   "cell_type": "code",
   "execution_count": null,
   "metadata": {
    "collapsed": true
   },
   "outputs": [],
   "source": []
  },
  {
   "cell_type": "code",
   "execution_count": 1679,
   "metadata": {},
   "outputs": [
    {
     "data": {
      "text/html": [
       "<div>\n",
       "<style scoped>\n",
       "    .dataframe tbody tr th:only-of-type {\n",
       "        vertical-align: middle;\n",
       "    }\n",
       "\n",
       "    .dataframe tbody tr th {\n",
       "        vertical-align: top;\n",
       "    }\n",
       "\n",
       "    .dataframe thead th {\n",
       "        text-align: right;\n",
       "    }\n",
       "</style>\n",
       "<table border=\"1\" class=\"dataframe\">\n",
       "  <thead>\n",
       "    <tr style=\"text-align: right;\">\n",
       "      <th></th>\n",
       "      <th>email</th>\n",
       "      <th>dob</th>\n",
       "      <th>co_applicant</th>\n",
       "      <th>created_at_insureds</th>\n",
       "      <th>updated_at_insureds</th>\n",
       "      <th>liability_claim_count</th>\n",
       "      <th>non_liability_non_cat_claim_count</th>\n",
       "      <th>fire_loss_count</th>\n",
       "      <th>theft_loss_count</th>\n",
       "      <th>wind_loss_count</th>\n",
       "      <th>...</th>\n",
       "      <th>foundation_percentage</th>\n",
       "      <th>garage_cars</th>\n",
       "      <th>garage_style</th>\n",
       "      <th>pool_value</th>\n",
       "      <th>half_bathrooms</th>\n",
       "      <th>full_bathrooms</th>\n",
       "      <th>one_and_a_half_bathrooms</th>\n",
       "      <th>detached_structures_value</th>\n",
       "      <th>age</th>\n",
       "      <th>area_code</th>\n",
       "    </tr>\n",
       "  </thead>\n",
       "  <tbody>\n",
       "    <tr>\n",
       "      <th>0</th>\n",
       "      <td>-1</td>\n",
       "      <td>362</td>\n",
       "      <td>False</td>\n",
       "      <td>3</td>\n",
       "      <td>1</td>\n",
       "      <td>-1.0</td>\n",
       "      <td>-1.0</td>\n",
       "      <td>0</td>\n",
       "      <td>0</td>\n",
       "      <td>0</td>\n",
       "      <td>...</td>\n",
       "      <td>100.0</td>\n",
       "      <td>-1</td>\n",
       "      <td>-1</td>\n",
       "      <td>0</td>\n",
       "      <td>-1.0</td>\n",
       "      <td>3.0</td>\n",
       "      <td>-1.0</td>\n",
       "      <td>208</td>\n",
       "      <td>6</td>\n",
       "      <td>265</td>\n",
       "    </tr>\n",
       "    <tr>\n",
       "      <th>1</th>\n",
       "      <td>-1</td>\n",
       "      <td>298</td>\n",
       "      <td>False</td>\n",
       "      <td>3</td>\n",
       "      <td>1</td>\n",
       "      <td>-1.0</td>\n",
       "      <td>-1.0</td>\n",
       "      <td>0</td>\n",
       "      <td>0</td>\n",
       "      <td>0</td>\n",
       "      <td>...</td>\n",
       "      <td>100.0</td>\n",
       "      <td>2</td>\n",
       "      <td>0</td>\n",
       "      <td>0</td>\n",
       "      <td>-1.0</td>\n",
       "      <td>2.0</td>\n",
       "      <td>-1.0</td>\n",
       "      <td>0</td>\n",
       "      <td>7</td>\n",
       "      <td>113</td>\n",
       "    </tr>\n",
       "    <tr>\n",
       "      <th>2</th>\n",
       "      <td>-1</td>\n",
       "      <td>699</td>\n",
       "      <td>False</td>\n",
       "      <td>3</td>\n",
       "      <td>1</td>\n",
       "      <td>-1.0</td>\n",
       "      <td>-1.0</td>\n",
       "      <td>0</td>\n",
       "      <td>0</td>\n",
       "      <td>0</td>\n",
       "      <td>...</td>\n",
       "      <td>100.0</td>\n",
       "      <td>2</td>\n",
       "      <td>0</td>\n",
       "      <td>0</td>\n",
       "      <td>-1.0</td>\n",
       "      <td>2.0</td>\n",
       "      <td>-1.0</td>\n",
       "      <td>0</td>\n",
       "      <td>3</td>\n",
       "      <td>102</td>\n",
       "    </tr>\n",
       "    <tr>\n",
       "      <th>3</th>\n",
       "      <td>-1</td>\n",
       "      <td>661</td>\n",
       "      <td>False</td>\n",
       "      <td>3</td>\n",
       "      <td>1</td>\n",
       "      <td>-1.0</td>\n",
       "      <td>-1.0</td>\n",
       "      <td>0</td>\n",
       "      <td>0</td>\n",
       "      <td>0</td>\n",
       "      <td>...</td>\n",
       "      <td>100.0</td>\n",
       "      <td>0</td>\n",
       "      <td>0</td>\n",
       "      <td>0</td>\n",
       "      <td>-1.0</td>\n",
       "      <td>1.0</td>\n",
       "      <td>-1.0</td>\n",
       "      <td>0</td>\n",
       "      <td>4</td>\n",
       "      <td>284</td>\n",
       "    </tr>\n",
       "    <tr>\n",
       "      <th>4</th>\n",
       "      <td>-1</td>\n",
       "      <td>713</td>\n",
       "      <td>False</td>\n",
       "      <td>3</td>\n",
       "      <td>1</td>\n",
       "      <td>-1.0</td>\n",
       "      <td>-1.0</td>\n",
       "      <td>0</td>\n",
       "      <td>0</td>\n",
       "      <td>0</td>\n",
       "      <td>...</td>\n",
       "      <td>100.0</td>\n",
       "      <td>2</td>\n",
       "      <td>0</td>\n",
       "      <td>0</td>\n",
       "      <td>-1.0</td>\n",
       "      <td>1.0</td>\n",
       "      <td>-1.0</td>\n",
       "      <td>0</td>\n",
       "      <td>3</td>\n",
       "      <td>307</td>\n",
       "    </tr>\n",
       "  </tbody>\n",
       "</table>\n",
       "<p>5 rows × 64 columns</p>\n",
       "</div>"
      ],
      "text/plain": [
       "   email  dob  co_applicant  created_at_insureds  updated_at_insureds  \\\n",
       "0     -1  362         False                    3                    1   \n",
       "1     -1  298         False                    3                    1   \n",
       "2     -1  699         False                    3                    1   \n",
       "3     -1  661         False                    3                    1   \n",
       "4     -1  713         False                    3                    1   \n",
       "\n",
       "   liability_claim_count  non_liability_non_cat_claim_count  fire_loss_count  \\\n",
       "0                   -1.0                               -1.0                0   \n",
       "1                   -1.0                               -1.0                0   \n",
       "2                   -1.0                               -1.0                0   \n",
       "3                   -1.0                               -1.0                0   \n",
       "4                   -1.0                               -1.0                0   \n",
       "\n",
       "   theft_loss_count  wind_loss_count    ...      foundation_percentage  \\\n",
       "0                 0                0    ...                      100.0   \n",
       "1                 0                0    ...                      100.0   \n",
       "2                 0                0    ...                      100.0   \n",
       "3                 0                0    ...                      100.0   \n",
       "4                 0                0    ...                      100.0   \n",
       "\n",
       "   garage_cars  garage_style  pool_value  half_bathrooms  full_bathrooms  \\\n",
       "0           -1            -1           0            -1.0             3.0   \n",
       "1            2             0           0            -1.0             2.0   \n",
       "2            2             0           0            -1.0             2.0   \n",
       "3            0             0           0            -1.0             1.0   \n",
       "4            2             0           0            -1.0             1.0   \n",
       "\n",
       "   one_and_a_half_bathrooms  detached_structures_value  age  area_code  \n",
       "0                      -1.0                        208    6        265  \n",
       "1                      -1.0                          0    7        113  \n",
       "2                      -1.0                          0    3        102  \n",
       "3                      -1.0                          0    4        284  \n",
       "4                      -1.0                          0    3        307  \n",
       "\n",
       "[5 rows x 64 columns]"
      ]
     },
     "execution_count": 1679,
     "metadata": {},
     "output_type": "execute_result"
    }
   ],
   "source": [
    "df.loc[df['co_applicant']==False].head()"
   ]
  },
  {
   "cell_type": "code",
   "execution_count": 1680,
   "metadata": {},
   "outputs": [
    {
     "data": {
      "text/plain": [
       "21173"
      ]
     },
     "execution_count": 1680,
     "metadata": {},
     "output_type": "execute_result"
    }
   ],
   "source": [
    "len(df)"
   ]
  },
  {
   "cell_type": "code",
   "execution_count": 1681,
   "metadata": {},
   "outputs": [
    {
     "data": {
      "text/plain": [
       "array([0.00000000e+00, 5.01771695e-02, 0.00000000e+00, 1.99610441e-02,\n",
       "       4.19796878e-02, 0.00000000e+00, 7.26708269e-04, 0.00000000e+00,\n",
       "       0.00000000e+00, 0.00000000e+00, 1.30378725e-03, 9.78002001e-04,\n",
       "       0.00000000e+00, 2.88384625e-02, 2.81949098e-02, 1.28508136e-02,\n",
       "       4.23891856e-05, 3.14389051e-02, 1.60270155e-02, 1.66552367e-02,\n",
       "       1.83866250e-02, 4.81083196e-02, 2.89073963e-03, 1.68008797e-03,\n",
       "       9.93767917e-03, 1.26921387e-02, 7.30676294e-03, 8.13673849e-03,\n",
       "       1.37281743e-02, 5.09830936e-02, 3.19561161e-02, 8.37025933e-03,\n",
       "       3.83219631e-02, 3.71961376e-02, 1.40997199e-02, 0.00000000e+00,\n",
       "       1.24248510e-02, 0.00000000e+00, 1.01606020e-03, 5.04221728e-02,\n",
       "       2.12604192e-02, 1.64723369e-01, 2.46971864e-02, 2.39755989e-02,\n",
       "       0.00000000e+00, 4.67042044e-02, 8.81839989e-03, 0.00000000e+00,\n",
       "       1.03760247e-03, 2.04595384e-03, 1.12273601e-03, 8.16799735e-03,\n",
       "       1.78585265e-03, 0.00000000e+00, 1.88938228e-02, 1.67931760e-03,\n",
       "       1.01826424e-03, 0.00000000e+00, 7.62007157e-03, 1.19380432e-03,\n",
       "       6.54882557e-04, 1.97287891e-03, 4.57958670e-02])"
      ]
     },
     "execution_count": 1681,
     "metadata": {},
     "output_type": "execute_result"
    }
   ],
   "source": [
    "rsskb_gbm_best.feature_importances_"
   ]
  },
  {
   "cell_type": "markdown",
   "metadata": {},
   "source": [
    "### Binarize the predict_proba to add more importance to recall than precision "
   ]
  },
  {
   "cell_type": "code",
   "execution_count": null,
   "metadata": {
    "collapsed": true
   },
   "outputs": [],
   "source": []
  },
  {
   "cell_type": "code",
   "execution_count": null,
   "metadata": {
    "collapsed": true
   },
   "outputs": [],
   "source": []
  },
  {
   "cell_type": "markdown",
   "metadata": {},
   "source": [
    "### Test the model on new data"
   ]
  },
  {
   "cell_type": "code",
   "execution_count": null,
   "metadata": {
    "collapsed": true
   },
   "outputs": [],
   "source": []
  },
  {
   "cell_type": "code",
   "execution_count": 1686,
   "metadata": {},
   "outputs": [
    {
     "data": {
      "text/plain": [
       "539"
      ]
     },
     "execution_count": 1686,
     "metadata": {},
     "output_type": "execute_result"
    }
   ],
   "source": [
    "len(df_test)"
   ]
  },
  {
   "cell_type": "code",
   "execution_count": 1698,
   "metadata": {},
   "outputs": [
    {
     "data": {
      "text/plain": [
       "539"
      ]
     },
     "execution_count": 1698,
     "metadata": {},
     "output_type": "execute_result"
    }
   ],
   "source": [
    "len(df.iloc[len(df) - len(df_test) : len(df)+1])"
   ]
  },
  {
   "cell_type": "code",
   "execution_count": null,
   "metadata": {
    "collapsed": true
   },
   "outputs": [],
   "source": []
  },
  {
   "cell_type": "code",
   "execution_count": 1703,
   "metadata": {
    "collapsed": true
   },
   "outputs": [],
   "source": [
    "X_unseen = df.iloc[len(df)-len(df_test) : len(df)+1]\n",
    "y_unseen = df['bound_at'].iloc[len(df)-len(df_test) : len(df)+1]"
   ]
  },
  {
   "cell_type": "code",
   "execution_count": 1707,
   "metadata": {},
   "outputs": [
    {
     "data": {
      "text/plain": [
       "[u'email',\n",
       " u'dob',\n",
       " u'co_applicant',\n",
       " 'created_at_insureds',\n",
       " 'updated_at_insureds',\n",
       " u'liability_claim_count',\n",
       " u'non_liability_non_cat_claim_count',\n",
       " u'fire_loss_count',\n",
       " u'theft_loss_count',\n",
       " u'wind_loss_count',\n",
       " u'water_loss_count',\n",
       " u'other_loss_count',\n",
       " u'married',\n",
       " 'created_at_households',\n",
       " 'updated_at_households',\n",
       " u'remember_created_at',\n",
       " u'property_type',\n",
       " u'sale_price',\n",
       " 'year_built',\n",
       " u'bathrooms',\n",
       " 'created_at_properties',\n",
       " 'updated_at_properties',\n",
       " u'foundation',\n",
       " u'roof_shape',\n",
       " u'protection_class',\n",
       " u'roof_type',\n",
       " u'construction_type',\n",
       " u'roof_age',\n",
       " 'status',\n",
       " 'replacement_cost',\n",
       " u'burglar_alarm',\n",
       " u'fire_alarm_sprinkler',\n",
       " u'fire_alarm_monitoring',\n",
       " u'secured_community',\n",
       " u'water_detection',\n",
       " u'builder',\n",
       " 'usage',\n",
       " u'children_present',\n",
       " u'pool',\n",
       " u'renovation_year_electrical',\n",
       " u'renovation_year_plumbing',\n",
       " u'renovation_year_water_heater',\n",
       " u'renovation_year_heating',\n",
       " u'underwriting_confirmed',\n",
       " u'success',\n",
       " u'construction_year',\n",
       " u'roof_cover_code',\n",
       " u'units_in_building',\n",
       " 'stories',\n",
       " u'roof_shape_code',\n",
       " u'exterior_wall_construction_code',\n",
       " 'exterior_wall_finish_code',\n",
       " u'foundation_type_code',\n",
       " u'foundation_percentage',\n",
       " u'garage_cars',\n",
       " u'garage_style',\n",
       " u'pool_value',\n",
       " u'half_bathrooms',\n",
       " u'full_bathrooms',\n",
       " u'one_and_a_half_bathrooms',\n",
       " u'detached_structures_value',\n",
       " 'age',\n",
       " 'area_code']"
      ]
     },
     "execution_count": 1707,
     "metadata": {},
     "output_type": "execute_result"
    }
   ],
   "source": [
    "possible_features = [val for val in X.columns if val in X_unseen.columns]\n",
    "possible_features"
   ]
  },
  {
   "cell_type": "code",
   "execution_count": 1711,
   "metadata": {},
   "outputs": [
    {
     "name": "stdout",
     "output_type": "stream",
     "text": [
      "Accuracy:  0.8719851576994434\n",
      "             precision    recall  f1-score   support\n",
      "\n",
      "          0       0.89      0.96      0.93       446\n",
      "          1       0.71      0.43      0.54        93\n",
      "\n",
      "avg / total       0.86      0.87      0.86       539\n",
      "\n"
     ]
    }
   ],
   "source": [
    "unseen_predictions = rsskb_gbm_best.predict(X_unseen[possible_features])\n",
    "\n",
    "print 'Accuracy: ', accuracy_score(y_unseen, unseen_predictions)\n",
    "print classification_report(y_unseen, unseen_predictions)"
   ]
  },
  {
   "cell_type": "code",
   "execution_count": 1714,
   "metadata": {},
   "outputs": [
    {
     "data": {
      "text/html": [
       "<div>\n",
       "<style scoped>\n",
       "    .dataframe tbody tr th:only-of-type {\n",
       "        vertical-align: middle;\n",
       "    }\n",
       "\n",
       "    .dataframe tbody tr th {\n",
       "        vertical-align: top;\n",
       "    }\n",
       "\n",
       "    .dataframe thead th {\n",
       "        text-align: right;\n",
       "    }\n",
       "</style>\n",
       "<table border=\"1\" class=\"dataframe\">\n",
       "  <thead>\n",
       "    <tr style=\"text-align: right;\">\n",
       "      <th></th>\n",
       "      <th>Predictions</th>\n",
       "      <th>bound_at</th>\n",
       "    </tr>\n",
       "  </thead>\n",
       "  <tbody>\n",
       "    <tr>\n",
       "      <th>21517</th>\n",
       "      <td>0</td>\n",
       "      <td>0</td>\n",
       "    </tr>\n",
       "    <tr>\n",
       "      <th>21518</th>\n",
       "      <td>0</td>\n",
       "      <td>1</td>\n",
       "    </tr>\n",
       "    <tr>\n",
       "      <th>21519</th>\n",
       "      <td>0</td>\n",
       "      <td>0</td>\n",
       "    </tr>\n",
       "    <tr>\n",
       "      <th>21520</th>\n",
       "      <td>0</td>\n",
       "      <td>0</td>\n",
       "    </tr>\n",
       "    <tr>\n",
       "      <th>21521</th>\n",
       "      <td>0</td>\n",
       "      <td>0</td>\n",
       "    </tr>\n",
       "    <tr>\n",
       "      <th>21522</th>\n",
       "      <td>0</td>\n",
       "      <td>0</td>\n",
       "    </tr>\n",
       "    <tr>\n",
       "      <th>21523</th>\n",
       "      <td>0</td>\n",
       "      <td>0</td>\n",
       "    </tr>\n",
       "    <tr>\n",
       "      <th>21524</th>\n",
       "      <td>0</td>\n",
       "      <td>0</td>\n",
       "    </tr>\n",
       "    <tr>\n",
       "      <th>21525</th>\n",
       "      <td>0</td>\n",
       "      <td>0</td>\n",
       "    </tr>\n",
       "    <tr>\n",
       "      <th>21526</th>\n",
       "      <td>0</td>\n",
       "      <td>0</td>\n",
       "    </tr>\n",
       "    <tr>\n",
       "      <th>21527</th>\n",
       "      <td>0</td>\n",
       "      <td>0</td>\n",
       "    </tr>\n",
       "    <tr>\n",
       "      <th>21528</th>\n",
       "      <td>0</td>\n",
       "      <td>0</td>\n",
       "    </tr>\n",
       "    <tr>\n",
       "      <th>21529</th>\n",
       "      <td>0</td>\n",
       "      <td>0</td>\n",
       "    </tr>\n",
       "    <tr>\n",
       "      <th>21530</th>\n",
       "      <td>1</td>\n",
       "      <td>1</td>\n",
       "    </tr>\n",
       "    <tr>\n",
       "      <th>21531</th>\n",
       "      <td>0</td>\n",
       "      <td>0</td>\n",
       "    </tr>\n",
       "    <tr>\n",
       "      <th>21532</th>\n",
       "      <td>0</td>\n",
       "      <td>1</td>\n",
       "    </tr>\n",
       "    <tr>\n",
       "      <th>21533</th>\n",
       "      <td>0</td>\n",
       "      <td>0</td>\n",
       "    </tr>\n",
       "    <tr>\n",
       "      <th>21534</th>\n",
       "      <td>0</td>\n",
       "      <td>0</td>\n",
       "    </tr>\n",
       "    <tr>\n",
       "      <th>21535</th>\n",
       "      <td>0</td>\n",
       "      <td>0</td>\n",
       "    </tr>\n",
       "    <tr>\n",
       "      <th>21536</th>\n",
       "      <td>0</td>\n",
       "      <td>0</td>\n",
       "    </tr>\n",
       "    <tr>\n",
       "      <th>21538</th>\n",
       "      <td>0</td>\n",
       "      <td>0</td>\n",
       "    </tr>\n",
       "    <tr>\n",
       "      <th>21539</th>\n",
       "      <td>0</td>\n",
       "      <td>0</td>\n",
       "    </tr>\n",
       "    <tr>\n",
       "      <th>21540</th>\n",
       "      <td>0</td>\n",
       "      <td>1</td>\n",
       "    </tr>\n",
       "    <tr>\n",
       "      <th>21541</th>\n",
       "      <td>0</td>\n",
       "      <td>0</td>\n",
       "    </tr>\n",
       "    <tr>\n",
       "      <th>21542</th>\n",
       "      <td>0</td>\n",
       "      <td>0</td>\n",
       "    </tr>\n",
       "    <tr>\n",
       "      <th>21543</th>\n",
       "      <td>0</td>\n",
       "      <td>0</td>\n",
       "    </tr>\n",
       "    <tr>\n",
       "      <th>21544</th>\n",
       "      <td>0</td>\n",
       "      <td>0</td>\n",
       "    </tr>\n",
       "    <tr>\n",
       "      <th>21545</th>\n",
       "      <td>0</td>\n",
       "      <td>0</td>\n",
       "    </tr>\n",
       "    <tr>\n",
       "      <th>21546</th>\n",
       "      <td>1</td>\n",
       "      <td>0</td>\n",
       "    </tr>\n",
       "    <tr>\n",
       "      <th>21547</th>\n",
       "      <td>0</td>\n",
       "      <td>0</td>\n",
       "    </tr>\n",
       "    <tr>\n",
       "      <th>...</th>\n",
       "      <td>...</td>\n",
       "      <td>...</td>\n",
       "    </tr>\n",
       "    <tr>\n",
       "      <th>22063</th>\n",
       "      <td>0</td>\n",
       "      <td>0</td>\n",
       "    </tr>\n",
       "    <tr>\n",
       "      <th>22064</th>\n",
       "      <td>0</td>\n",
       "      <td>0</td>\n",
       "    </tr>\n",
       "    <tr>\n",
       "      <th>22065</th>\n",
       "      <td>0</td>\n",
       "      <td>0</td>\n",
       "    </tr>\n",
       "    <tr>\n",
       "      <th>22066</th>\n",
       "      <td>0</td>\n",
       "      <td>0</td>\n",
       "    </tr>\n",
       "    <tr>\n",
       "      <th>22067</th>\n",
       "      <td>0</td>\n",
       "      <td>0</td>\n",
       "    </tr>\n",
       "    <tr>\n",
       "      <th>22068</th>\n",
       "      <td>0</td>\n",
       "      <td>0</td>\n",
       "    </tr>\n",
       "    <tr>\n",
       "      <th>22069</th>\n",
       "      <td>0</td>\n",
       "      <td>0</td>\n",
       "    </tr>\n",
       "    <tr>\n",
       "      <th>22070</th>\n",
       "      <td>1</td>\n",
       "      <td>1</td>\n",
       "    </tr>\n",
       "    <tr>\n",
       "      <th>22072</th>\n",
       "      <td>1</td>\n",
       "      <td>1</td>\n",
       "    </tr>\n",
       "    <tr>\n",
       "      <th>22073</th>\n",
       "      <td>0</td>\n",
       "      <td>0</td>\n",
       "    </tr>\n",
       "    <tr>\n",
       "      <th>22074</th>\n",
       "      <td>0</td>\n",
       "      <td>1</td>\n",
       "    </tr>\n",
       "    <tr>\n",
       "      <th>22075</th>\n",
       "      <td>0</td>\n",
       "      <td>0</td>\n",
       "    </tr>\n",
       "    <tr>\n",
       "      <th>22076</th>\n",
       "      <td>0</td>\n",
       "      <td>0</td>\n",
       "    </tr>\n",
       "    <tr>\n",
       "      <th>22078</th>\n",
       "      <td>0</td>\n",
       "      <td>0</td>\n",
       "    </tr>\n",
       "    <tr>\n",
       "      <th>22079</th>\n",
       "      <td>0</td>\n",
       "      <td>0</td>\n",
       "    </tr>\n",
       "    <tr>\n",
       "      <th>22080</th>\n",
       "      <td>0</td>\n",
       "      <td>0</td>\n",
       "    </tr>\n",
       "    <tr>\n",
       "      <th>22082</th>\n",
       "      <td>0</td>\n",
       "      <td>0</td>\n",
       "    </tr>\n",
       "    <tr>\n",
       "      <th>22083</th>\n",
       "      <td>0</td>\n",
       "      <td>0</td>\n",
       "    </tr>\n",
       "    <tr>\n",
       "      <th>22084</th>\n",
       "      <td>0</td>\n",
       "      <td>0</td>\n",
       "    </tr>\n",
       "    <tr>\n",
       "      <th>22085</th>\n",
       "      <td>0</td>\n",
       "      <td>0</td>\n",
       "    </tr>\n",
       "    <tr>\n",
       "      <th>22086</th>\n",
       "      <td>0</td>\n",
       "      <td>0</td>\n",
       "    </tr>\n",
       "    <tr>\n",
       "      <th>22087</th>\n",
       "      <td>0</td>\n",
       "      <td>0</td>\n",
       "    </tr>\n",
       "    <tr>\n",
       "      <th>22088</th>\n",
       "      <td>0</td>\n",
       "      <td>0</td>\n",
       "    </tr>\n",
       "    <tr>\n",
       "      <th>22089</th>\n",
       "      <td>0</td>\n",
       "      <td>0</td>\n",
       "    </tr>\n",
       "    <tr>\n",
       "      <th>22090</th>\n",
       "      <td>0</td>\n",
       "      <td>0</td>\n",
       "    </tr>\n",
       "    <tr>\n",
       "      <th>22091</th>\n",
       "      <td>0</td>\n",
       "      <td>0</td>\n",
       "    </tr>\n",
       "    <tr>\n",
       "      <th>22092</th>\n",
       "      <td>0</td>\n",
       "      <td>0</td>\n",
       "    </tr>\n",
       "    <tr>\n",
       "      <th>22093</th>\n",
       "      <td>0</td>\n",
       "      <td>0</td>\n",
       "    </tr>\n",
       "    <tr>\n",
       "      <th>22094</th>\n",
       "      <td>1</td>\n",
       "      <td>1</td>\n",
       "    </tr>\n",
       "    <tr>\n",
       "      <th>22095</th>\n",
       "      <td>0</td>\n",
       "      <td>0</td>\n",
       "    </tr>\n",
       "  </tbody>\n",
       "</table>\n",
       "<p>539 rows × 2 columns</p>\n",
       "</div>"
      ],
      "text/plain": [
       "       Predictions  bound_at\n",
       "21517            0         0\n",
       "21518            0         1\n",
       "21519            0         0\n",
       "21520            0         0\n",
       "21521            0         0\n",
       "21522            0         0\n",
       "21523            0         0\n",
       "21524            0         0\n",
       "21525            0         0\n",
       "21526            0         0\n",
       "21527            0         0\n",
       "21528            0         0\n",
       "21529            0         0\n",
       "21530            1         1\n",
       "21531            0         0\n",
       "21532            0         1\n",
       "21533            0         0\n",
       "21534            0         0\n",
       "21535            0         0\n",
       "21536            0         0\n",
       "21538            0         0\n",
       "21539            0         0\n",
       "21540            0         1\n",
       "21541            0         0\n",
       "21542            0         0\n",
       "21543            0         0\n",
       "21544            0         0\n",
       "21545            0         0\n",
       "21546            1         0\n",
       "21547            0         0\n",
       "...            ...       ...\n",
       "22063            0         0\n",
       "22064            0         0\n",
       "22065            0         0\n",
       "22066            0         0\n",
       "22067            0         0\n",
       "22068            0         0\n",
       "22069            0         0\n",
       "22070            1         1\n",
       "22072            1         1\n",
       "22073            0         0\n",
       "22074            0         1\n",
       "22075            0         0\n",
       "22076            0         0\n",
       "22078            0         0\n",
       "22079            0         0\n",
       "22080            0         0\n",
       "22082            0         0\n",
       "22083            0         0\n",
       "22084            0         0\n",
       "22085            0         0\n",
       "22086            0         0\n",
       "22087            0         0\n",
       "22088            0         0\n",
       "22089            0         0\n",
       "22090            0         0\n",
       "22091            0         0\n",
       "22092            0         0\n",
       "22093            0         0\n",
       "22094            1         1\n",
       "22095            0         0\n",
       "\n",
       "[539 rows x 2 columns]"
      ]
     },
     "execution_count": 1714,
     "metadata": {},
     "output_type": "execute_result"
    }
   ],
   "source": [
    "unseen_predictions_df = pd.concat([pd.DataFrame(unseen_predictions, columns=['Predictions'], index=X_unseen.index), y_unseen], axis=1) # Test predictions\n",
    "\n",
    "unseen_predictions_df\n"
   ]
  },
  {
   "cell_type": "code",
   "execution_count": 1716,
   "metadata": {
    "collapsed": true
   },
   "outputs": [],
   "source": [
    "unseen_predictions_df.to_csv('/Users/mattelgazar/Desktop/unseen_predictions.csv')"
   ]
  },
  {
   "cell_type": "code",
   "execution_count": null,
   "metadata": {
    "collapsed": true
   },
   "outputs": [],
   "source": []
  },
  {
   "cell_type": "code",
   "execution_count": null,
   "metadata": {
    "collapsed": true
   },
   "outputs": [],
   "source": []
  },
  {
   "cell_type": "code",
   "execution_count": 1719,
   "metadata": {},
   "outputs": [
    {
     "data": {
      "text/plain": [
       "0    483\n",
       "1     56\n",
       "dtype: int64"
      ]
     },
     "execution_count": 1719,
     "metadata": {},
     "output_type": "execute_result"
    }
   ],
   "source": [
    "pd.Series(unseen_predictions).value_counts()"
   ]
  },
  {
   "cell_type": "code",
   "execution_count": 1720,
   "metadata": {},
   "outputs": [
    {
     "data": {
      "image/png": "[encoded data removed]",
      "text/plain": [
       "<matplotlib.figure.Figure at 0x1d8b1a1490>"
      ]
     },
     "metadata": {},
     "output_type": "display_data"
    }
   ],
   "source": [
    "sns.barplot(x=['Actual 0', 'Pred 0', 'Actual 1', 'Pred 1'], \n",
    "            y=[y_unseen.value_counts()[0], pd.Series(unseen_predictions).value_counts()[0],\n",
    "               y_unseen.value_counts()[1], pd.Series(unseen_predictions).value_counts()[1]])\n",
    "sns.set(rc={'figure.figsize':(15.5, 10.27)})"
   ]
  },
  {
   "cell_type": "code",
   "execution_count": 1726,
   "metadata": {},
   "outputs": [
    {
     "data": {
      "image/png": "[encoded data removed]",
      "text/plain": [
       "<matplotlib.figure.Figure at 0x1d1cf55410>"
      ]
     },
     "metadata": {},
     "output_type": "display_data"
    }
   ],
   "source": [
    "y_score_unseen = rsskb_gbm_best.decision_function(X_unseen[possible_features])\n",
    "\n",
    "fpr, tpr, threshold = roc_curve(y_unseen, y_score_unseen)\n",
    "roc_auc = auc(fpr, tpr)\n",
    "\n",
    "plt.figure()\n",
    "lw = 2\n",
    "plt.plot(fpr, tpr, color='darkorange',\n",
    "         lw=lw, label='ROC curve (area = %0.2f)' % roc_auc)\n",
    "plt.plot([0, 1], [0, 1], color='navy', lw=lw, linestyle='--')\n",
    "plt.xlim([0.0, 1.0])\n",
    "plt.ylim([0.0, 1.05])\n",
    "plt.xlabel('FPR')\n",
    "plt.ylabel('TPR')\n",
    "plt.title('ROC AUC Curve')\n",
    "plt.legend(loc=\"lower right\")\n",
    "plt.show()"
   ]
  },
  {
   "cell_type": "code",
   "execution_count": null,
   "metadata": {
    "collapsed": true
   },
   "outputs": [],
   "source": []
  }
 ],
 "metadata": {
  "kernelspec": {
   "display_name": "Python [default]",
   "language": "python",
   "name": "python2"
  },
  "language_info": {
   "codemirror_mode": {
    "name": "ipython",
    "version": 2
   },
   "file_extension": ".py",
   "mimetype": "text/x-python",
   "name": "python",
   "nbconvert_exporter": "python",
   "pygments_lexer": "ipython2",
   "version": "2.7.13"
  }
 },
 "nbformat": 4,
 "nbformat_minor": 2
}
